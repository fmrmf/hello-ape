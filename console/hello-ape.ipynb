{
 "cells": [
  {
   "cell_type": "code",
   "execution_count": 20,
   "id": "b407728b",
   "metadata": {},
   "outputs": [],
   "source": [
    "# works after:\n",
    "#  1. pipx runpip eth-ape install notebook\n",
    "#  2. ape console\n",
    "#  3. In [1]: from notebook import notebookapp as app\n",
    "#     In [2]: app.launch_new_instance()\n",
    "\n",
    "# NOTE: for some reason `ape-notebook` plugin not displaying in cli when run `ape -h`, so needed to\n",
    "#       pipx runpip install notebook into my ape package env. Then run `ape-notebook` one line src from\n",
    "#      `ape console`.\n",
    "# TODO: figure out why ape-notebook plugin not working for me.\n",
    "\n",
    "import ape\n",
    "from ape import accounts, chain, Contract, networks "
   ]
  },
  {
   "cell_type": "code",
   "execution_count": 21,
   "id": "e0a51bfd",
   "metadata": {},
   "outputs": [
    {
     "data": {
      "text/plain": [
       "<alchemy chain_id=1>"
      ]
     },
     "execution_count": 21,
     "metadata": {},
     "output_type": "execute_result"
    }
   ],
   "source": [
    "networks.parse_network_choice('ethereum:mainnet:alchemy').__enter__()"
   ]
  },
  {
   "cell_type": "code",
   "execution_count": 22,
   "id": "069b902c",
   "metadata": {},
   "outputs": [
    {
     "data": {
      "text/plain": [
       "<TestAccount 0x1e59ce931B4CFea3fe4B875411e280e173cB7A9C>"
      ]
     },
     "execution_count": 22,
     "metadata": {},
     "output_type": "execute_result"
    }
   ],
   "source": [
    "# get account 0\n",
    "dev = accounts.test_accounts[0]\n",
    "dev"
   ]
  },
  {
   "cell_type": "code",
   "execution_count": 23,
   "id": "becacf57",
   "metadata": {},
   "outputs": [
    {
     "data": {
      "text/plain": [
       "0"
      ]
     },
     "execution_count": 23,
     "metadata": {},
     "output_type": "execute_result"
    }
   ],
   "source": [
    "# get the balance of account 0\n",
    "dev.balance"
   ]
  },
  {
   "cell_type": "code",
   "execution_count": 24,
   "id": "542dac5f",
   "metadata": {},
   "outputs": [
    {
     "data": {
      "text/plain": [
       "15384306"
      ]
     },
     "execution_count": 24,
     "metadata": {},
     "output_type": "execute_result"
    }
   ],
   "source": [
    "current_block = chain.blocks[-1].number\n",
    "current_block"
   ]
  },
  {
   "cell_type": "code",
   "execution_count": 25,
   "id": "f558faa8",
   "metadata": {},
   "outputs": [
    {
     "data": {
      "text/plain": [
       "15333906"
      ]
     },
     "execution_count": 25,
     "metadata": {},
     "output_type": "execute_result"
    }
   ],
   "source": [
    "dblocks = int(86400*7/12)\n",
    "start_block = current_block - dblocks\n",
    "start_block"
   ]
  },
  {
   "cell_type": "code",
   "execution_count": 36,
   "id": "5842fa52",
   "metadata": {},
   "outputs": [
    {
     "data": {
      "text/plain": [
       "<Vyper_contract 0xD51a44d3FaE010294C616388b506AcdA1bfAAE46>"
      ]
     },
     "execution_count": 36,
     "metadata": {},
     "output_type": "execute_result"
    }
   ],
   "source": [
    "curve_pool = Contract(\"0xD51a44d3FaE010294C616388b506AcdA1bfAAE46\")\n",
    "curve_pool"
   ]
  },
  {
   "cell_type": "code",
   "execution_count": 37,
   "id": "7e281650",
   "metadata": {},
   "outputs": [
    {
     "data": {
      "text/plain": [
       "TokenExchange(address indexed buyer, uint256 sold_id, uint256 tokens_sold, uint256 bought_id, uint256 tokens_bought)"
      ]
     },
     "execution_count": 37,
     "metadata": {},
     "output_type": "execute_result"
    }
   ],
   "source": [
    "curve_pool.TokenExchange"
   ]
  },
  {
   "cell_type": "code",
   "execution_count": null,
   "id": "629e5e2e",
   "metadata": {},
   "outputs": [],
   "source": [
    "%time curve_pool.TokenExchange.query([\"tokens_sold\", \"tokens_bought\"], start_block=start_block)"
   ]
  },
  {
   "cell_type": "code",
   "execution_count": null,
   "id": "61f9b0b8",
   "metadata": {},
   "outputs": [],
   "source": []
  },
  {
   "cell_type": "code",
   "execution_count": null,
   "id": "abffe356",
   "metadata": {},
   "outputs": [],
   "source": []
  },
  {
   "cell_type": "code",
   "execution_count": null,
   "id": "2e5079a8",
   "metadata": {},
   "outputs": [],
   "source": []
  }
 ],
 "metadata": {
  "kernelspec": {
   "display_name": "Python 3 (ipykernel)",
   "language": "python",
   "name": "python3"
  },
  "language_info": {
   "codemirror_mode": {
    "name": "ipython",
    "version": 3
   },
   "file_extension": ".py",
   "mimetype": "text/x-python",
   "name": "python",
   "nbconvert_exporter": "python",
   "pygments_lexer": "ipython3",
   "version": "3.10.6"
  }
 },
 "nbformat": 4,
 "nbformat_minor": 5
}
