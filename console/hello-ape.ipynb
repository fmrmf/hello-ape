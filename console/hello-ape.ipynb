{
 "cells": [
  {
   "cell_type": "code",
   "execution_count": 14,
   "id": "b407728b",
   "metadata": {},
   "outputs": [],
   "source": [
    "# works after:\n",
    "#  1. pipx runpip eth-ape install notebook\n",
    "#  2. ape console\n",
    "#  3. In [1]: from notebook import notebookapp as app\n",
    "#     In [2]: app.launch_new_instance()\n",
    "\n",
    "# NOTE: for some reason `ape-notebook` plugin not displaying in cli when run `ape -h`, so needed to\n",
    "#       pipx runpip install notebook into my ape package env. Then run `ape-notebook` one line src from\n",
    "#      `ape console`.\n",
    "# TODO: figure out why ape-notebook plugin not working for me.\n",
    "\n",
    "import ape"
   ]
  },
  {
   "cell_type": "code",
   "execution_count": 15,
   "id": "e0a51bfd",
   "metadata": {},
   "outputs": [
    {
     "data": {
      "text/plain": [
       "<foundry chain_id=31337>"
      ]
     },
     "execution_count": 15,
     "metadata": {},
     "output_type": "execute_result"
    }
   ],
   "source": [
    "ape.networks.parse_network_choice('ethereum:local:foundry').__enter__()"
   ]
  },
  {
   "cell_type": "code",
   "execution_count": 16,
   "id": "069b902c",
   "metadata": {},
   "outputs": [
    {
     "data": {
      "text/plain": [
       "<TestAccount 0x1e59ce931B4CFea3fe4B875411e280e173cB7A9C>"
      ]
     },
     "execution_count": 16,
     "metadata": {},
     "output_type": "execute_result"
    }
   ],
   "source": [
    "# get account 0\n",
    "dev = ape.accounts.test_accounts[0]\n",
    "dev"
   ]
  },
  {
   "cell_type": "code",
   "execution_count": 17,
   "id": "becacf57",
   "metadata": {},
   "outputs": [
    {
     "data": {
      "text/plain": [
       "10000000000000000000000"
      ]
     },
     "execution_count": 17,
     "metadata": {},
     "output_type": "execute_result"
    }
   ],
   "source": [
    "# get the balance of account 0\n",
    "dev.balance"
   ]
  },
  {
   "cell_type": "code",
   "execution_count": 22,
   "id": "5842fa52",
   "metadata": {},
   "outputs": [
    {
     "data": {
      "text/html": [
       "<div>\n",
       "<style scoped>\n",
       "    .dataframe tbody tr th:only-of-type {\n",
       "        vertical-align: middle;\n",
       "    }\n",
       "\n",
       "    .dataframe tbody tr th {\n",
       "        vertical-align: top;\n",
       "    }\n",
       "\n",
       "    .dataframe thead th {\n",
       "        text-align: right;\n",
       "    }\n",
       "</style>\n",
       "<table border=\"1\" class=\"dataframe\">\n",
       "  <thead>\n",
       "    <tr style=\"text-align: right;\">\n",
       "      <th></th>\n",
       "    </tr>\n",
       "  </thead>\n",
       "  <tbody>\n",
       "    <tr>\n",
       "      <th>0</th>\n",
       "    </tr>\n",
       "  </tbody>\n",
       "</table>\n",
       "</div>"
      ],
      "text/plain": [
       "Empty DataFrame\n",
       "Columns: []\n",
       "Index: [0]"
      ]
     },
     "execution_count": 22,
     "metadata": {},
     "output_type": "execute_result"
    }
   ],
   "source": [
    "ape.chain.blocks.query()"
   ]
  },
  {
   "cell_type": "code",
   "execution_count": null,
   "id": "629e5e2e",
   "metadata": {},
   "outputs": [],
   "source": []
  }
 ],
 "metadata": {
  "kernelspec": {
   "display_name": "Python 3 (ipykernel)",
   "language": "python",
   "name": "python3"
  },
  "language_info": {
   "codemirror_mode": {
    "name": "ipython",
    "version": 3
   },
   "file_extension": ".py",
   "mimetype": "text/x-python",
   "name": "python",
   "nbconvert_exporter": "python",
   "pygments_lexer": "ipython3",
   "version": "3.10.6"
  }
 },
 "nbformat": 4,
 "nbformat_minor": 5
}
