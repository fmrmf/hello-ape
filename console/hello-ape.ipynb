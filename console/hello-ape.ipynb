{
 "cells": [
  {
   "cell_type": "code",
   "execution_count": 2,
   "id": "b407728b",
   "metadata": {},
   "outputs": [],
   "source": [
    "# works after:\n",
    "#  1. pipx runpip eth-ape install notebook\n",
    "#  2. ape console\n",
    "#  3. In [1]: from notebook import notebookapp as app\n",
    "#     In [2]: app.launch_new_instance()\n",
    "\n",
    "# NOTE: for some reason `ape-notebook` plugin not displaying in cli when run `ape -h`, so needed to\n",
    "#       pipx runpip install notebook into my ape package env. Then run `ape-notebook` one line src from\n",
    "#      `ape console`.\n",
    "# TODO: figure out why ape-notebook plugin not working for me.\n",
    "\n",
    "from ape import accounts, chain, Contract, networks"
   ]
  },
  {
   "cell_type": "code",
   "execution_count": 3,
   "id": "e0a51bfd",
   "metadata": {},
   "outputs": [
    {
     "name": "stdout",
     "output_type": "stream",
     "text": [
      "INFO: Connecting to existing Geth node at 'http://localhost:8545'.\n"
     ]
    },
    {
     "data": {
      "text/plain": [
       "<geth chain_id=1>"
      ]
     },
     "execution_count": 3,
     "metadata": {},
     "output_type": "execute_result"
    }
   ],
   "source": [
    "networks.parse_network_choice('ethereum:mainnet:geth').__enter__()"
   ]
  },
  {
   "cell_type": "code",
   "execution_count": 4,
   "id": "069b902c",
   "metadata": {},
   "outputs": [
    {
     "data": {
      "text/plain": [
       "<TestAccount 0x1e59ce931B4CFea3fe4B875411e280e173cB7A9C>"
      ]
     },
     "execution_count": 4,
     "metadata": {},
     "output_type": "execute_result"
    }
   ],
   "source": [
    "# get account 0\n",
    "dev = accounts.test_accounts[0]\n",
    "dev"
   ]
  },
  {
   "cell_type": "code",
   "execution_count": 6,
   "id": "becacf57",
   "metadata": {},
   "outputs": [
    {
     "data": {
      "text/plain": [
       "0"
      ]
     },
     "execution_count": 6,
     "metadata": {},
     "output_type": "execute_result"
    }
   ],
   "source": [
    "# get the balance of account 0\n",
    "dev.balance"
   ]
  },
  {
   "cell_type": "code",
   "execution_count": 7,
   "id": "542dac5f",
   "metadata": {},
   "outputs": [
    {
     "data": {
      "text/plain": [
       "15384747"
      ]
     },
     "execution_count": 7,
     "metadata": {},
     "output_type": "execute_result"
    }
   ],
   "source": [
    "current_block = chain.blocks[-1].number\n",
    "current_block"
   ]
  },
  {
   "cell_type": "code",
   "execution_count": 8,
   "id": "f558faa8",
   "metadata": {},
   "outputs": [
    {
     "data": {
      "text/plain": [
       "15334347"
      ]
     },
     "execution_count": 8,
     "metadata": {},
     "output_type": "execute_result"
    }
   ],
   "source": [
    "dblocks = int(86400*7/12)\n",
    "start_block = current_block - dblocks\n",
    "start_block"
   ]
  },
  {
   "cell_type": "code",
   "execution_count": 9,
   "id": "5842fa52",
   "metadata": {},
   "outputs": [
    {
     "data": {
      "text/plain": [
       "<Vyper_contract 0xDC24316b9AE028F1497c275EB9192a3Ea0f67022>"
      ]
     },
     "execution_count": 9,
     "metadata": {},
     "output_type": "execute_result"
    }
   ],
   "source": [
    "curve_steth = Contract(\"0xDC24316b9AE028F1497c275EB9192a3Ea0f67022\")\n",
    "curve_steth"
   ]
  },
  {
   "cell_type": "code",
   "execution_count": 12,
   "id": "0c9c4c61",
   "metadata": {},
   "outputs": [
    {
     "data": {
      "text/plain": [
       "<Lido 0xae7ab96520DE3A18E5e111B5EaAb095312D7fE84>"
      ]
     },
     "execution_count": 12,
     "metadata": {},
     "output_type": "execute_result"
    }
   ],
   "source": [
    "steth = Contract(\"0xae7ab96520DE3A18E5e111B5EaAb095312D7fE84\")\n",
    "steth"
   ]
  },
  {
   "cell_type": "code",
   "execution_count": 13,
   "id": "efed5dfd",
   "metadata": {},
   "outputs": [
    {
     "data": {
      "text/plain": [
       "579630073515205767354781"
      ]
     },
     "execution_count": 13,
     "metadata": {},
     "output_type": "execute_result"
    }
   ],
   "source": [
    "steth.balanceOf(curve_steth)"
   ]
  },
  {
   "cell_type": "code",
   "execution_count": 14,
   "id": "7e281650",
   "metadata": {},
   "outputs": [
    {
     "data": {
      "text/plain": [
       "TokenExchange(address indexed buyer, int128 sold_id, uint256 tokens_sold, int128 bought_id, uint256 tokens_bought)"
      ]
     },
     "execution_count": 14,
     "metadata": {},
     "output_type": "execute_result"
    }
   ],
   "source": [
    "curve_steth.TokenExchange"
   ]
  },
  {
   "cell_type": "code",
   "execution_count": 21,
   "id": "629e5e2e",
   "metadata": {},
   "outputs": [
    {
     "ename": "ValidationError",
     "evalue": "1 validation error for ContractEventQuery\ncolumns -> 0\n  str type expected (type=type_error.str)",
     "output_type": "error",
     "traceback": [
      "\u001b[0;31m---------------------------------------------------------------------------\u001b[0m",
      "\u001b[0;31mValidationError\u001b[0m                           Traceback (most recent call last)",
      "\u001b[0;32m<timed eval>\u001b[0m in \u001b[0;36m<module>\u001b[0;34m\u001b[0m\n",
      "\u001b[0;32m~/.local/pipx/venvs/eth-ape/lib/python3.10/site-packages/ape/contracts/base.py\u001b[0m in \u001b[0;36mquery\u001b[0;34m(self, start_block, stop_block, step, engine_to_use, *columns)\u001b[0m\n\u001b[1;32m    433\u001b[0m             \u001b[0mcolumns\u001b[0m \u001b[0;34m=\u001b[0m \u001b[0mlist\u001b[0m\u001b[0;34m(\u001b[0m\u001b[0mContractLog\u001b[0m\u001b[0;34m.\u001b[0m\u001b[0m__fields__\u001b[0m\u001b[0;34m)\u001b[0m  \u001b[0;31m# type: ignore\u001b[0m\u001b[0;34m\u001b[0m\u001b[0;34m\u001b[0m\u001b[0m\n\u001b[1;32m    434\u001b[0m \u001b[0;34m\u001b[0m\u001b[0m\n\u001b[0;32m--> 435\u001b[0;31m         contract_event_query = ContractEventQuery(\n\u001b[0m\u001b[1;32m    436\u001b[0m             \u001b[0mcolumns\u001b[0m\u001b[0;34m=\u001b[0m\u001b[0mcolumns\u001b[0m\u001b[0;34m,\u001b[0m\u001b[0;34m\u001b[0m\u001b[0;34m\u001b[0m\u001b[0m\n\u001b[1;32m    437\u001b[0m             \u001b[0mcontract\u001b[0m\u001b[0;34m=\u001b[0m\u001b[0mself\u001b[0m\u001b[0;34m.\u001b[0m\u001b[0mcontract\u001b[0m\u001b[0;34m.\u001b[0m\u001b[0maddress\u001b[0m\u001b[0;34m,\u001b[0m\u001b[0;34m\u001b[0m\u001b[0;34m\u001b[0m\u001b[0m\n",
      "\u001b[0;32m~/.local/pipx/venvs/eth-ape/lib/python3.10/site-packages/pydantic/main.cpython-310-darwin.so\u001b[0m in \u001b[0;36mpydantic.main.BaseModel.__init__\u001b[0;34m()\u001b[0m\n",
      "\u001b[0;31mValidationError\u001b[0m: 1 validation error for ContractEventQuery\ncolumns -> 0\n  str type expected (type=type_error.str)"
     ]
    }
   ],
   "source": [
    "# TODO: fix. what's wrong with call to query (something w columns)?\n",
    "%time curve_steth.TokenExchange.query([\"tokens_sold\", \"tokens_bought\"], start_block=start_block)"
   ]
  },
  {
   "cell_type": "code",
   "execution_count": null,
   "id": "61f9b0b8",
   "metadata": {},
   "outputs": [],
   "source": []
  },
  {
   "cell_type": "code",
   "execution_count": null,
   "id": "abffe356",
   "metadata": {},
   "outputs": [],
   "source": []
  },
  {
   "cell_type": "code",
   "execution_count": null,
   "id": "2e5079a8",
   "metadata": {},
   "outputs": [],
   "source": []
  }
 ],
 "metadata": {
  "kernelspec": {
   "display_name": "Python 3 (ipykernel)",
   "language": "python",
   "name": "python3"
  },
  "language_info": {
   "codemirror_mode": {
    "name": "ipython",
    "version": 3
   },
   "file_extension": ".py",
   "mimetype": "text/x-python",
   "name": "python",
   "nbconvert_exporter": "python",
   "pygments_lexer": "ipython3",
   "version": "3.10.6"
  }
 },
 "nbformat": 4,
 "nbformat_minor": 5
}
