{
 "cells": [
  {
   "cell_type": "code",
   "execution_count": 2,
   "id": "b407728b",
   "metadata": {},
   "outputs": [],
   "source": [
    "# works after:\n",
    "#  1. pipx runpip eth-ape install notebook\n",
    "#  2. ape console\n",
    "#  3. In [1]: from notebook import notebookapp as app\n",
    "#     In [2]: app.launch_new_instance()\n",
    "\n",
    "# NOTE: for some reason `ape-notebook` plugin not displaying in cli when run `ape -h`, so needed to\n",
    "#       pipx runpip install notebook into my ape package env. Then run `ape-notebook` one line src from\n",
    "#      `ape console`.\n",
    "# TODO: figure out why ape-notebook plugin not working for me.\n",
    "\n",
    "from ape import accounts, chain, Contract, networks"
   ]
  },
  {
   "cell_type": "code",
   "execution_count": 3,
   "id": "e0a51bfd",
   "metadata": {},
   "outputs": [
    {
     "name": "stdout",
     "output_type": "stream",
     "text": [
      "INFO: Connecting to existing Geth node at 'http://localhost:8545'.\n"
     ]
    },
    {
     "data": {
      "text/plain": [
       "<geth chain_id=1>"
      ]
     },
     "execution_count": 3,
     "metadata": {},
     "output_type": "execute_result"
    }
   ],
   "source": [
    "networks.parse_network_choice('ethereum:mainnet:geth').__enter__()"
   ]
  },
  {
   "cell_type": "code",
   "execution_count": 4,
   "id": "069b902c",
   "metadata": {},
   "outputs": [
    {
     "data": {
      "text/plain": [
       "<TestAccount 0x1e59ce931B4CFea3fe4B875411e280e173cB7A9C>"
      ]
     },
     "execution_count": 4,
     "metadata": {},
     "output_type": "execute_result"
    }
   ],
   "source": [
    "# get account 0\n",
    "dev = accounts.test_accounts[0]\n",
    "dev"
   ]
  },
  {
   "cell_type": "code",
   "execution_count": 5,
   "id": "becacf57",
   "metadata": {},
   "outputs": [
    {
     "data": {
      "text/plain": [
       "0"
      ]
     },
     "execution_count": 5,
     "metadata": {},
     "output_type": "execute_result"
    }
   ],
   "source": [
    "# get the balance of account 0\n",
    "dev.balance"
   ]
  },
  {
   "cell_type": "code",
   "execution_count": 6,
   "id": "542dac5f",
   "metadata": {},
   "outputs": [
    {
     "data": {
      "text/plain": [
       "15390638"
      ]
     },
     "execution_count": 6,
     "metadata": {},
     "output_type": "execute_result"
    }
   ],
   "source": [
    "current_block = chain.blocks[-1].number\n",
    "current_block"
   ]
  },
  {
   "cell_type": "code",
   "execution_count": 7,
   "id": "f558faa8",
   "metadata": {
    "scrolled": true
   },
   "outputs": [
    {
     "data": {
      "text/plain": [
       "15340238"
      ]
     },
     "execution_count": 7,
     "metadata": {},
     "output_type": "execute_result"
    }
   ],
   "source": [
    "dblocks = int(86400*7/12) # last 7 d\n",
    "start_block = current_block - dblocks\n",
    "start_block"
   ]
  },
  {
   "cell_type": "code",
   "execution_count": 8,
   "id": "5842fa52",
   "metadata": {},
   "outputs": [
    {
     "data": {
      "text/plain": [
       "<Vyper_contract 0xDC24316b9AE028F1497c275EB9192a3Ea0f67022>"
      ]
     },
     "execution_count": 8,
     "metadata": {},
     "output_type": "execute_result"
    }
   ],
   "source": [
    "curve_steth = Contract(\"0xDC24316b9AE028F1497c275EB9192a3Ea0f67022\")\n",
    "curve_steth"
   ]
  },
  {
   "cell_type": "code",
   "execution_count": 9,
   "id": "0c9c4c61",
   "metadata": {},
   "outputs": [
    {
     "data": {
      "text/plain": [
       "<Lido 0xae7ab96520DE3A18E5e111B5EaAb095312D7fE84>"
      ]
     },
     "execution_count": 9,
     "metadata": {},
     "output_type": "execute_result"
    }
   ],
   "source": [
    "steth = Contract(\"0xae7ab96520DE3A18E5e111B5EaAb095312D7fE84\")\n",
    "steth"
   ]
  },
  {
   "cell_type": "code",
   "execution_count": 10,
   "id": "efed5dfd",
   "metadata": {},
   "outputs": [
    {
     "data": {
      "text/plain": [
       "580379927215612260886904"
      ]
     },
     "execution_count": 10,
     "metadata": {},
     "output_type": "execute_result"
    }
   ],
   "source": [
    "steth.balanceOf(curve_steth)"
   ]
  },
  {
   "cell_type": "code",
   "execution_count": 11,
   "id": "7e281650",
   "metadata": {},
   "outputs": [
    {
     "data": {
      "text/plain": [
       "TokenExchange(address indexed buyer, int128 sold_id, uint256 tokens_sold, int128 bought_id, uint256 tokens_bought)"
      ]
     },
     "execution_count": 11,
     "metadata": {},
     "output_type": "execute_result"
    }
   ],
   "source": [
    "curve_steth.TokenExchange"
   ]
  },
  {
   "cell_type": "code",
   "execution_count": 12,
   "id": "f39d35af",
   "metadata": {},
   "outputs": [
    {
     "data": {
      "text/plain": [
       "ape.contracts.base.ContractEvent"
      ]
     },
     "execution_count": 12,
     "metadata": {},
     "output_type": "execute_result"
    }
   ],
   "source": [
    "type(curve_steth.TokenExchange)"
   ]
  },
  {
   "cell_type": "code",
   "execution_count": 13,
   "id": "629e5e2e",
   "metadata": {},
   "outputs": [
    {
     "name": "stdout",
     "output_type": "stream",
     "text": [
      "CPU times: user 23.6 ms, sys: 3.67 ms, total: 27.3 ms\n",
      "Wall time: 563 ms\n"
     ]
    },
    {
     "data": {
      "text/html": [
       "<div>\n",
       "<style scoped>\n",
       "    .dataframe tbody tr th:only-of-type {\n",
       "        vertical-align: middle;\n",
       "    }\n",
       "\n",
       "    .dataframe tbody tr th {\n",
       "        vertical-align: top;\n",
       "    }\n",
       "\n",
       "    .dataframe thead th {\n",
       "        text-align: right;\n",
       "    }\n",
       "</style>\n",
       "<table border=\"1\" class=\"dataframe\">\n",
       "  <thead>\n",
       "    <tr style=\"text-align: right;\">\n",
       "      <th></th>\n",
       "      <th>event_name</th>\n",
       "      <th>contract_address</th>\n",
       "      <th>event_arguments</th>\n",
       "      <th>transaction_hash</th>\n",
       "      <th>block_number</th>\n",
       "      <th>block_hash</th>\n",
       "      <th>log_index</th>\n",
       "      <th>transaction_index</th>\n",
       "    </tr>\n",
       "  </thead>\n",
       "  <tbody>\n",
       "    <tr>\n",
       "      <th>0</th>\n",
       "      <td>TokenExchange</td>\n",
       "      <td>0xDC24316b9AE028F1497c275EB9192a3Ea0f67022</td>\n",
       "      <td>{'buyer': '0xe09801dA4C74e62fB42DFC8303a1C1BD6...</td>\n",
       "      <td>0xad49061c6049a1a20bb62aec18bd57eb7ca4753edf8e...</td>\n",
       "      <td>15387729</td>\n",
       "      <td>0xff454f380262faf5683c60d521ee1ff4d15a3b96ef79...</td>\n",
       "      <td>113</td>\n",
       "      <td>63</td>\n",
       "    </tr>\n",
       "    <tr>\n",
       "      <th>1</th>\n",
       "      <td>TokenExchange</td>\n",
       "      <td>0xDC24316b9AE028F1497c275EB9192a3Ea0f67022</td>\n",
       "      <td>{'buyer': '0x27239549DD40E1D60F5B80B0C41969237...</td>\n",
       "      <td>0xb92b72432da26f503b8d0c8e8ca4d26d092f9abaee92...</td>\n",
       "      <td>15387729</td>\n",
       "      <td>0xff454f380262faf5683c60d521ee1ff4d15a3b96ef79...</td>\n",
       "      <td>306</td>\n",
       "      <td>176</td>\n",
       "    </tr>\n",
       "    <tr>\n",
       "      <th>2</th>\n",
       "      <td>TokenExchange</td>\n",
       "      <td>0xDC24316b9AE028F1497c275EB9192a3Ea0f67022</td>\n",
       "      <td>{'buyer': '0x288931fA76d7B0482f0FD0BCA9a50Bf0D...</td>\n",
       "      <td>0x393f4347fd7ad25450d5eec335ab753a46f45d3227da...</td>\n",
       "      <td>15387733</td>\n",
       "      <td>0xde3a1ca2ebccca833b569986ac1a902166c32066aa27...</td>\n",
       "      <td>20</td>\n",
       "      <td>1</td>\n",
       "    </tr>\n",
       "    <tr>\n",
       "      <th>3</th>\n",
       "      <td>TokenExchange</td>\n",
       "      <td>0xDC24316b9AE028F1497c275EB9192a3Ea0f67022</td>\n",
       "      <td>{'buyer': '0x81C46fECa27B31F3ADC2b91eE4be9717d...</td>\n",
       "      <td>0x6339464f0fe17716dc528fe812b7d65788e99be792e2...</td>\n",
       "      <td>15387745</td>\n",
       "      <td>0x05c39f502ec276b7a798284a2835c3032d397010e2c8...</td>\n",
       "      <td>549</td>\n",
       "      <td>90</td>\n",
       "    </tr>\n",
       "    <tr>\n",
       "      <th>4</th>\n",
       "      <td>TokenExchange</td>\n",
       "      <td>0xDC24316b9AE028F1497c275EB9192a3Ea0f67022</td>\n",
       "      <td>{'buyer': '0xe29cb11CEe84e0FFFF50dc9ffcd230d80...</td>\n",
       "      <td>0xadce6a663d1aeb3e3b4c342f0841c8f0b2df16c4e8c2...</td>\n",
       "      <td>15387837</td>\n",
       "      <td>0x433bb3f8ae6bec0d562f7df8f298b4e6c7c7fe06d6c5...</td>\n",
       "      <td>97</td>\n",
       "      <td>58</td>\n",
       "    </tr>\n",
       "    <tr>\n",
       "      <th>...</th>\n",
       "      <td>...</td>\n",
       "      <td>...</td>\n",
       "      <td>...</td>\n",
       "      <td>...</td>\n",
       "      <td>...</td>\n",
       "      <td>...</td>\n",
       "      <td>...</td>\n",
       "      <td>...</td>\n",
       "    </tr>\n",
       "    <tr>\n",
       "      <th>66</th>\n",
       "      <td>TokenExchange</td>\n",
       "      <td>0xDC24316b9AE028F1497c275EB9192a3Ea0f67022</td>\n",
       "      <td>{'buyer': '0xDEF171Fe48CF0115B1d80b88dc8eAB591...</td>\n",
       "      <td>0x7531b2d4763ee31e0f05965639a9d481d24c9224e4cc...</td>\n",
       "      <td>15390259</td>\n",
       "      <td>0xec735b881e730802b5a1101964213ffeb279832a487f...</td>\n",
       "      <td>130</td>\n",
       "      <td>28</td>\n",
       "    </tr>\n",
       "    <tr>\n",
       "      <th>67</th>\n",
       "      <td>TokenExchange</td>\n",
       "      <td>0xDC24316b9AE028F1497c275EB9192a3Ea0f67022</td>\n",
       "      <td>{'buyer': '0xF2F400C138F9fb900576263af0BC7fCde...</td>\n",
       "      <td>0x7b46d0ddff8ef15927d6bd63a513c3832b0379c0cb84...</td>\n",
       "      <td>15390378</td>\n",
       "      <td>0x857130285a1d75bf0efe4507a74369d1f39147fdeeda...</td>\n",
       "      <td>74</td>\n",
       "      <td>210</td>\n",
       "    </tr>\n",
       "    <tr>\n",
       "      <th>68</th>\n",
       "      <td>TokenExchange</td>\n",
       "      <td>0xDC24316b9AE028F1497c275EB9192a3Ea0f67022</td>\n",
       "      <td>{'buyer': '0x22F9dCF4647084d6C31b2765F6910cd85...</td>\n",
       "      <td>0x2383789abc893b8872e4d0bdf810f44ac497aec2f18a...</td>\n",
       "      <td>15390515</td>\n",
       "      <td>0x39c65eefaa6bb0f837a1dc2c73ccdc60e35f59a223bd...</td>\n",
       "      <td>433</td>\n",
       "      <td>221</td>\n",
       "    </tr>\n",
       "    <tr>\n",
       "      <th>69</th>\n",
       "      <td>TokenExchange</td>\n",
       "      <td>0xDC24316b9AE028F1497c275EB9192a3Ea0f67022</td>\n",
       "      <td>{'buyer': '0xF2F400C138F9fb900576263af0BC7fCde...</td>\n",
       "      <td>0xd9b292974e0d0a346d533a5a8593121c805b4a1be94f...</td>\n",
       "      <td>15390522</td>\n",
       "      <td>0xf50d32cd99040c26e1cc51a15ba85b2d9e91568d0d44...</td>\n",
       "      <td>415</td>\n",
       "      <td>188</td>\n",
       "    </tr>\n",
       "    <tr>\n",
       "      <th>70</th>\n",
       "      <td>TokenExchange</td>\n",
       "      <td>0xDC24316b9AE028F1497c275EB9192a3Ea0f67022</td>\n",
       "      <td>{'buyer': '0x8c9f4ab6829C072A41B72a66BB4682f41...</td>\n",
       "      <td>0x20b54eadf0c503ed0f2921b701165eecf6b3687a06e3...</td>\n",
       "      <td>15390619</td>\n",
       "      <td>0xf1f117e46b62d494e718cf0ce608615c4585294963a6...</td>\n",
       "      <td>267</td>\n",
       "      <td>392</td>\n",
       "    </tr>\n",
       "  </tbody>\n",
       "</table>\n",
       "<p>71 rows × 8 columns</p>\n",
       "</div>"
      ],
      "text/plain": [
       "       event_name                            contract_address  \\\n",
       "0   TokenExchange  0xDC24316b9AE028F1497c275EB9192a3Ea0f67022   \n",
       "1   TokenExchange  0xDC24316b9AE028F1497c275EB9192a3Ea0f67022   \n",
       "2   TokenExchange  0xDC24316b9AE028F1497c275EB9192a3Ea0f67022   \n",
       "3   TokenExchange  0xDC24316b9AE028F1497c275EB9192a3Ea0f67022   \n",
       "4   TokenExchange  0xDC24316b9AE028F1497c275EB9192a3Ea0f67022   \n",
       "..            ...                                         ...   \n",
       "66  TokenExchange  0xDC24316b9AE028F1497c275EB9192a3Ea0f67022   \n",
       "67  TokenExchange  0xDC24316b9AE028F1497c275EB9192a3Ea0f67022   \n",
       "68  TokenExchange  0xDC24316b9AE028F1497c275EB9192a3Ea0f67022   \n",
       "69  TokenExchange  0xDC24316b9AE028F1497c275EB9192a3Ea0f67022   \n",
       "70  TokenExchange  0xDC24316b9AE028F1497c275EB9192a3Ea0f67022   \n",
       "\n",
       "                                      event_arguments  \\\n",
       "0   {'buyer': '0xe09801dA4C74e62fB42DFC8303a1C1BD6...   \n",
       "1   {'buyer': '0x27239549DD40E1D60F5B80B0C41969237...   \n",
       "2   {'buyer': '0x288931fA76d7B0482f0FD0BCA9a50Bf0D...   \n",
       "3   {'buyer': '0x81C46fECa27B31F3ADC2b91eE4be9717d...   \n",
       "4   {'buyer': '0xe29cb11CEe84e0FFFF50dc9ffcd230d80...   \n",
       "..                                                ...   \n",
       "66  {'buyer': '0xDEF171Fe48CF0115B1d80b88dc8eAB591...   \n",
       "67  {'buyer': '0xF2F400C138F9fb900576263af0BC7fCde...   \n",
       "68  {'buyer': '0x22F9dCF4647084d6C31b2765F6910cd85...   \n",
       "69  {'buyer': '0xF2F400C138F9fb900576263af0BC7fCde...   \n",
       "70  {'buyer': '0x8c9f4ab6829C072A41B72a66BB4682f41...   \n",
       "\n",
       "                                     transaction_hash  block_number  \\\n",
       "0   0xad49061c6049a1a20bb62aec18bd57eb7ca4753edf8e...      15387729   \n",
       "1   0xb92b72432da26f503b8d0c8e8ca4d26d092f9abaee92...      15387729   \n",
       "2   0x393f4347fd7ad25450d5eec335ab753a46f45d3227da...      15387733   \n",
       "3   0x6339464f0fe17716dc528fe812b7d65788e99be792e2...      15387745   \n",
       "4   0xadce6a663d1aeb3e3b4c342f0841c8f0b2df16c4e8c2...      15387837   \n",
       "..                                                ...           ...   \n",
       "66  0x7531b2d4763ee31e0f05965639a9d481d24c9224e4cc...      15390259   \n",
       "67  0x7b46d0ddff8ef15927d6bd63a513c3832b0379c0cb84...      15390378   \n",
       "68  0x2383789abc893b8872e4d0bdf810f44ac497aec2f18a...      15390515   \n",
       "69  0xd9b292974e0d0a346d533a5a8593121c805b4a1be94f...      15390522   \n",
       "70  0x20b54eadf0c503ed0f2921b701165eecf6b3687a06e3...      15390619   \n",
       "\n",
       "                                           block_hash  log_index  \\\n",
       "0   0xff454f380262faf5683c60d521ee1ff4d15a3b96ef79...        113   \n",
       "1   0xff454f380262faf5683c60d521ee1ff4d15a3b96ef79...        306   \n",
       "2   0xde3a1ca2ebccca833b569986ac1a902166c32066aa27...         20   \n",
       "3   0x05c39f502ec276b7a798284a2835c3032d397010e2c8...        549   \n",
       "4   0x433bb3f8ae6bec0d562f7df8f298b4e6c7c7fe06d6c5...         97   \n",
       "..                                                ...        ...   \n",
       "66  0xec735b881e730802b5a1101964213ffeb279832a487f...        130   \n",
       "67  0x857130285a1d75bf0efe4507a74369d1f39147fdeeda...         74   \n",
       "68  0x39c65eefaa6bb0f837a1dc2c73ccdc60e35f59a223bd...        433   \n",
       "69  0xf50d32cd99040c26e1cc51a15ba85b2d9e91568d0d44...        415   \n",
       "70  0xf1f117e46b62d494e718cf0ce608615c4585294963a6...        267   \n",
       "\n",
       "    transaction_index  \n",
       "0                  63  \n",
       "1                 176  \n",
       "2                   1  \n",
       "3                  90  \n",
       "4                  58  \n",
       "..                ...  \n",
       "66                 28  \n",
       "67                210  \n",
       "68                221  \n",
       "69                188  \n",
       "70                392  \n",
       "\n",
       "[71 rows x 8 columns]"
      ]
     },
     "execution_count": 13,
     "metadata": {},
     "output_type": "execute_result"
    }
   ],
   "source": [
    "%time query_swaps_recent = curve_steth.TokenExchange.query(*[\"*\"], start_block=current_block-3000) # last 10 hr\n",
    "query_swaps_recent"
   ]
  },
  {
   "cell_type": "code",
   "execution_count": 14,
   "id": "12886651",
   "metadata": {},
   "outputs": [
    {
     "data": {
      "text/plain": [
       "pandas.core.frame.DataFrame"
      ]
     },
     "execution_count": 14,
     "metadata": {},
     "output_type": "execute_result"
    }
   ],
   "source": [
    "# sweet, very cool :)\n",
    "type(query_swaps_recent)"
   ]
  },
  {
   "cell_type": "code",
   "execution_count": 15,
   "id": "61f9b0b8",
   "metadata": {},
   "outputs": [
    {
     "data": {
      "text/plain": [
       "0     {'buyer': '0xe09801dA4C74e62fB42DFC8303a1C1BD6...\n",
       "1     {'buyer': '0x27239549DD40E1D60F5B80B0C41969237...\n",
       "2     {'buyer': '0x288931fA76d7B0482f0FD0BCA9a50Bf0D...\n",
       "3     {'buyer': '0x81C46fECa27B31F3ADC2b91eE4be9717d...\n",
       "4     {'buyer': '0xe29cb11CEe84e0FFFF50dc9ffcd230d80...\n",
       "                            ...                        \n",
       "66    {'buyer': '0xDEF171Fe48CF0115B1d80b88dc8eAB591...\n",
       "67    {'buyer': '0xF2F400C138F9fb900576263af0BC7fCde...\n",
       "68    {'buyer': '0x22F9dCF4647084d6C31b2765F6910cd85...\n",
       "69    {'buyer': '0xF2F400C138F9fb900576263af0BC7fCde...\n",
       "70    {'buyer': '0x8c9f4ab6829C072A41B72a66BB4682f41...\n",
       "Name: event_arguments, Length: 71, dtype: object"
      ]
     },
     "execution_count": 15,
     "metadata": {},
     "output_type": "execute_result"
    }
   ],
   "source": [
    "# take a deeper dive into event arguments column. it's a pandas series\n",
    "query_swaps_recent[\"event_arguments\"]"
   ]
  },
  {
   "cell_type": "code",
   "execution_count": 16,
   "id": "abffe356",
   "metadata": {},
   "outputs": [
    {
     "data": {
      "text/plain": [
       "pandas.core.series.Series"
      ]
     },
     "execution_count": 16,
     "metadata": {},
     "output_type": "execute_result"
    }
   ],
   "source": [
    "type(query_swaps_recent[\"event_arguments\"])"
   ]
  },
  {
   "cell_type": "code",
   "execution_count": 17,
   "id": "2e5079a8",
   "metadata": {},
   "outputs": [
    {
     "data": {
      "text/plain": [
       "{'buyer': '0x8c9f4ab6829C072A41B72a66BB4682f41F266478',\n",
       " 'sold_id': 1,\n",
       " 'tokens_sold': 41100000000000000000,\n",
       " 'bought_id': 0,\n",
       " 'tokens_bought': 40012989240855229144}"
      ]
     },
     "execution_count": 17,
     "metadata": {},
     "output_type": "execute_result"
    }
   ],
   "source": [
    "query_swaps_recent[\"event_arguments\"].iloc[-1]"
   ]
  },
  {
   "cell_type": "code",
   "execution_count": 18,
   "id": "29580294",
   "metadata": {},
   "outputs": [
    {
     "name": "stdout",
     "output_type": "stream",
     "text": [
      "CPU times: user 149 ms, sys: 7.98 ms, total: 157 ms\n",
      "Wall time: 7.9 s\n"
     ]
    },
    {
     "data": {
      "text/html": [
       "<div>\n",
       "<style scoped>\n",
       "    .dataframe tbody tr th:only-of-type {\n",
       "        vertical-align: middle;\n",
       "    }\n",
       "\n",
       "    .dataframe tbody tr th {\n",
       "        vertical-align: top;\n",
       "    }\n",
       "\n",
       "    .dataframe thead th {\n",
       "        text-align: right;\n",
       "    }\n",
       "</style>\n",
       "<table border=\"1\" class=\"dataframe\">\n",
       "  <thead>\n",
       "    <tr style=\"text-align: right;\">\n",
       "      <th></th>\n",
       "      <th>event_name</th>\n",
       "      <th>contract_address</th>\n",
       "      <th>event_arguments</th>\n",
       "      <th>transaction_hash</th>\n",
       "      <th>block_number</th>\n",
       "      <th>block_hash</th>\n",
       "      <th>log_index</th>\n",
       "      <th>transaction_index</th>\n",
       "    </tr>\n",
       "  </thead>\n",
       "  <tbody>\n",
       "    <tr>\n",
       "      <th>0</th>\n",
       "      <td>TokenExchange</td>\n",
       "      <td>0xDC24316b9AE028F1497c275EB9192a3Ea0f67022</td>\n",
       "      <td>{'buyer': '0xDEF171Fe48CF0115B1d80b88dc8eAB591...</td>\n",
       "      <td>0xe03fa654a2131257b00f2242be9695439a51e7c2a9dc...</td>\n",
       "      <td>15340264</td>\n",
       "      <td>0x63c7ac6e44df32ce7b2a781fde8acd3074fbc6f30868...</td>\n",
       "      <td>84</td>\n",
       "      <td>61</td>\n",
       "    </tr>\n",
       "    <tr>\n",
       "      <th>1</th>\n",
       "      <td>TokenExchange</td>\n",
       "      <td>0xDC24316b9AE028F1497c275EB9192a3Ea0f67022</td>\n",
       "      <td>{'buyer': '0xDEF171Fe48CF0115B1d80b88dc8eAB591...</td>\n",
       "      <td>0xa435af793ad17ebe3bcd72845fa051578d98f5d781a2...</td>\n",
       "      <td>15340295</td>\n",
       "      <td>0xdb0b000578972d1d5a2b122ba94f67065106239ec04a...</td>\n",
       "      <td>83</td>\n",
       "      <td>44</td>\n",
       "    </tr>\n",
       "    <tr>\n",
       "      <th>2</th>\n",
       "      <td>TokenExchange</td>\n",
       "      <td>0xDC24316b9AE028F1497c275EB9192a3Ea0f67022</td>\n",
       "      <td>{'buyer': '0xF2F400C138F9fb900576263af0BC7fCde...</td>\n",
       "      <td>0xfc253b03dd50b2a7e3fda553a3b6c7d2ed49fbefade6...</td>\n",
       "      <td>15340315</td>\n",
       "      <td>0x3b2baf823dabab48d6e2d9c9e02cc92b06c10e20cb6f...</td>\n",
       "      <td>89</td>\n",
       "      <td>44</td>\n",
       "    </tr>\n",
       "    <tr>\n",
       "      <th>3</th>\n",
       "      <td>TokenExchange</td>\n",
       "      <td>0xDC24316b9AE028F1497c275EB9192a3Ea0f67022</td>\n",
       "      <td>{'buyer': '0xF2F400C138F9fb900576263af0BC7fCde...</td>\n",
       "      <td>0x85dbcfbe49d0edf32bcf9ed8ebff310d40cab9411939...</td>\n",
       "      <td>15340364</td>\n",
       "      <td>0xb3e35c0fde0bc98279cae2228d5029b398b7eabe1b4a...</td>\n",
       "      <td>452</td>\n",
       "      <td>248</td>\n",
       "    </tr>\n",
       "    <tr>\n",
       "      <th>4</th>\n",
       "      <td>TokenExchange</td>\n",
       "      <td>0xDC24316b9AE028F1497c275EB9192a3Ea0f67022</td>\n",
       "      <td>{'buyer': '0x0031130c56162e00A7e9C01eE4147b11c...</td>\n",
       "      <td>0xf16c87c9993729fa1a8ad6ee4e1366b65c95188e0288...</td>\n",
       "      <td>15340480</td>\n",
       "      <td>0xd91e1f362f2ba2705b80b0762290b89acfe78a9a5f21...</td>\n",
       "      <td>146</td>\n",
       "      <td>69</td>\n",
       "    </tr>\n",
       "    <tr>\n",
       "      <th>...</th>\n",
       "      <td>...</td>\n",
       "      <td>...</td>\n",
       "      <td>...</td>\n",
       "      <td>...</td>\n",
       "      <td>...</td>\n",
       "      <td>...</td>\n",
       "      <td>...</td>\n",
       "      <td>...</td>\n",
       "    </tr>\n",
       "    <tr>\n",
       "      <th>1212</th>\n",
       "      <td>TokenExchange</td>\n",
       "      <td>0xDC24316b9AE028F1497c275EB9192a3Ea0f67022</td>\n",
       "      <td>{'buyer': '0xDEF171Fe48CF0115B1d80b88dc8eAB591...</td>\n",
       "      <td>0x7531b2d4763ee31e0f05965639a9d481d24c9224e4cc...</td>\n",
       "      <td>15390259</td>\n",
       "      <td>0xec735b881e730802b5a1101964213ffeb279832a487f...</td>\n",
       "      <td>130</td>\n",
       "      <td>28</td>\n",
       "    </tr>\n",
       "    <tr>\n",
       "      <th>1213</th>\n",
       "      <td>TokenExchange</td>\n",
       "      <td>0xDC24316b9AE028F1497c275EB9192a3Ea0f67022</td>\n",
       "      <td>{'buyer': '0xF2F400C138F9fb900576263af0BC7fCde...</td>\n",
       "      <td>0x7b46d0ddff8ef15927d6bd63a513c3832b0379c0cb84...</td>\n",
       "      <td>15390378</td>\n",
       "      <td>0x857130285a1d75bf0efe4507a74369d1f39147fdeeda...</td>\n",
       "      <td>74</td>\n",
       "      <td>210</td>\n",
       "    </tr>\n",
       "    <tr>\n",
       "      <th>1214</th>\n",
       "      <td>TokenExchange</td>\n",
       "      <td>0xDC24316b9AE028F1497c275EB9192a3Ea0f67022</td>\n",
       "      <td>{'buyer': '0x22F9dCF4647084d6C31b2765F6910cd85...</td>\n",
       "      <td>0x2383789abc893b8872e4d0bdf810f44ac497aec2f18a...</td>\n",
       "      <td>15390515</td>\n",
       "      <td>0x39c65eefaa6bb0f837a1dc2c73ccdc60e35f59a223bd...</td>\n",
       "      <td>433</td>\n",
       "      <td>221</td>\n",
       "    </tr>\n",
       "    <tr>\n",
       "      <th>1215</th>\n",
       "      <td>TokenExchange</td>\n",
       "      <td>0xDC24316b9AE028F1497c275EB9192a3Ea0f67022</td>\n",
       "      <td>{'buyer': '0xF2F400C138F9fb900576263af0BC7fCde...</td>\n",
       "      <td>0xd9b292974e0d0a346d533a5a8593121c805b4a1be94f...</td>\n",
       "      <td>15390522</td>\n",
       "      <td>0xf50d32cd99040c26e1cc51a15ba85b2d9e91568d0d44...</td>\n",
       "      <td>415</td>\n",
       "      <td>188</td>\n",
       "    </tr>\n",
       "    <tr>\n",
       "      <th>1216</th>\n",
       "      <td>TokenExchange</td>\n",
       "      <td>0xDC24316b9AE028F1497c275EB9192a3Ea0f67022</td>\n",
       "      <td>{'buyer': '0x8c9f4ab6829C072A41B72a66BB4682f41...</td>\n",
       "      <td>0x20b54eadf0c503ed0f2921b701165eecf6b3687a06e3...</td>\n",
       "      <td>15390619</td>\n",
       "      <td>0xf1f117e46b62d494e718cf0ce608615c4585294963a6...</td>\n",
       "      <td>267</td>\n",
       "      <td>392</td>\n",
       "    </tr>\n",
       "  </tbody>\n",
       "</table>\n",
       "<p>1217 rows × 8 columns</p>\n",
       "</div>"
      ],
      "text/plain": [
       "         event_name                            contract_address  \\\n",
       "0     TokenExchange  0xDC24316b9AE028F1497c275EB9192a3Ea0f67022   \n",
       "1     TokenExchange  0xDC24316b9AE028F1497c275EB9192a3Ea0f67022   \n",
       "2     TokenExchange  0xDC24316b9AE028F1497c275EB9192a3Ea0f67022   \n",
       "3     TokenExchange  0xDC24316b9AE028F1497c275EB9192a3Ea0f67022   \n",
       "4     TokenExchange  0xDC24316b9AE028F1497c275EB9192a3Ea0f67022   \n",
       "...             ...                                         ...   \n",
       "1212  TokenExchange  0xDC24316b9AE028F1497c275EB9192a3Ea0f67022   \n",
       "1213  TokenExchange  0xDC24316b9AE028F1497c275EB9192a3Ea0f67022   \n",
       "1214  TokenExchange  0xDC24316b9AE028F1497c275EB9192a3Ea0f67022   \n",
       "1215  TokenExchange  0xDC24316b9AE028F1497c275EB9192a3Ea0f67022   \n",
       "1216  TokenExchange  0xDC24316b9AE028F1497c275EB9192a3Ea0f67022   \n",
       "\n",
       "                                        event_arguments  \\\n",
       "0     {'buyer': '0xDEF171Fe48CF0115B1d80b88dc8eAB591...   \n",
       "1     {'buyer': '0xDEF171Fe48CF0115B1d80b88dc8eAB591...   \n",
       "2     {'buyer': '0xF2F400C138F9fb900576263af0BC7fCde...   \n",
       "3     {'buyer': '0xF2F400C138F9fb900576263af0BC7fCde...   \n",
       "4     {'buyer': '0x0031130c56162e00A7e9C01eE4147b11c...   \n",
       "...                                                 ...   \n",
       "1212  {'buyer': '0xDEF171Fe48CF0115B1d80b88dc8eAB591...   \n",
       "1213  {'buyer': '0xF2F400C138F9fb900576263af0BC7fCde...   \n",
       "1214  {'buyer': '0x22F9dCF4647084d6C31b2765F6910cd85...   \n",
       "1215  {'buyer': '0xF2F400C138F9fb900576263af0BC7fCde...   \n",
       "1216  {'buyer': '0x8c9f4ab6829C072A41B72a66BB4682f41...   \n",
       "\n",
       "                                       transaction_hash  block_number  \\\n",
       "0     0xe03fa654a2131257b00f2242be9695439a51e7c2a9dc...      15340264   \n",
       "1     0xa435af793ad17ebe3bcd72845fa051578d98f5d781a2...      15340295   \n",
       "2     0xfc253b03dd50b2a7e3fda553a3b6c7d2ed49fbefade6...      15340315   \n",
       "3     0x85dbcfbe49d0edf32bcf9ed8ebff310d40cab9411939...      15340364   \n",
       "4     0xf16c87c9993729fa1a8ad6ee4e1366b65c95188e0288...      15340480   \n",
       "...                                                 ...           ...   \n",
       "1212  0x7531b2d4763ee31e0f05965639a9d481d24c9224e4cc...      15390259   \n",
       "1213  0x7b46d0ddff8ef15927d6bd63a513c3832b0379c0cb84...      15390378   \n",
       "1214  0x2383789abc893b8872e4d0bdf810f44ac497aec2f18a...      15390515   \n",
       "1215  0xd9b292974e0d0a346d533a5a8593121c805b4a1be94f...      15390522   \n",
       "1216  0x20b54eadf0c503ed0f2921b701165eecf6b3687a06e3...      15390619   \n",
       "\n",
       "                                             block_hash  log_index  \\\n",
       "0     0x63c7ac6e44df32ce7b2a781fde8acd3074fbc6f30868...         84   \n",
       "1     0xdb0b000578972d1d5a2b122ba94f67065106239ec04a...         83   \n",
       "2     0x3b2baf823dabab48d6e2d9c9e02cc92b06c10e20cb6f...         89   \n",
       "3     0xb3e35c0fde0bc98279cae2228d5029b398b7eabe1b4a...        452   \n",
       "4     0xd91e1f362f2ba2705b80b0762290b89acfe78a9a5f21...        146   \n",
       "...                                                 ...        ...   \n",
       "1212  0xec735b881e730802b5a1101964213ffeb279832a487f...        130   \n",
       "1213  0x857130285a1d75bf0efe4507a74369d1f39147fdeeda...         74   \n",
       "1214  0x39c65eefaa6bb0f837a1dc2c73ccdc60e35f59a223bd...        433   \n",
       "1215  0xf50d32cd99040c26e1cc51a15ba85b2d9e91568d0d44...        415   \n",
       "1216  0xf1f117e46b62d494e718cf0ce608615c4585294963a6...        267   \n",
       "\n",
       "      transaction_index  \n",
       "0                    61  \n",
       "1                    44  \n",
       "2                    44  \n",
       "3                   248  \n",
       "4                    69  \n",
       "...                 ...  \n",
       "1212                 28  \n",
       "1213                210  \n",
       "1214                221  \n",
       "1215                188  \n",
       "1216                392  \n",
       "\n",
       "[1217 rows x 8 columns]"
      ]
     },
     "execution_count": 18,
     "metadata": {},
     "output_type": "execute_result"
    }
   ],
   "source": [
    "# ok great. let's look a bit farther into the past to start_block from above. see how long it takes\n",
    "%time query_swaps = curve_steth.TokenExchange.query(*[\"*\"], start_block=start_block)\n",
    "query_swaps"
   ]
  },
  {
   "cell_type": "code",
   "execution_count": null,
   "id": "11b8e5ca",
   "metadata": {},
   "outputs": [],
   "source": []
  }
 ],
 "metadata": {
  "kernelspec": {
   "display_name": "Python 3 (ipykernel)",
   "language": "python",
   "name": "python3"
  },
  "language_info": {
   "codemirror_mode": {
    "name": "ipython",
    "version": 3
   },
   "file_extension": ".py",
   "mimetype": "text/x-python",
   "name": "python",
   "nbconvert_exporter": "python",
   "pygments_lexer": "ipython3",
   "version": "3.10.6"
  }
 },
 "nbformat": 4,
 "nbformat_minor": 5
}
