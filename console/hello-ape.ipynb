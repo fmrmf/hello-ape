{
 "cells": [
  {
   "cell_type": "code",
   "execution_count": 2,
   "id": "b407728b",
   "metadata": {},
   "outputs": [],
   "source": [
    "# works after:\n",
    "#  1. pipx runpip eth-ape install notebook matplotlib\n",
    "#  2. ape console\n",
    "#  3. In [1]: from notebook import notebookapp as app\n",
    "#     In [2]: app.launch_new_instance()\n",
    "\n",
    "# NOTE: for some reason `ape-notebook` plugin not displaying in cli when run `ape -h`, so needed to\n",
    "#       pipx runpip install notebook into my ape package env. Then run `ape-notebook` one line src from\n",
    "#      `ape console`.\n",
    "# TODO: figure out why ape-notebook plugin not working for me.\n",
    "\n",
    "from ape import accounts, chain, Contract, networks"
   ]
  },
  {
   "cell_type": "code",
   "execution_count": 4,
   "id": "e0a51bfd",
   "metadata": {},
   "outputs": [
    {
     "data": {
      "text/plain": [
       "<alchemy chain_id=1>"
      ]
     },
     "execution_count": 4,
     "metadata": {},
     "output_type": "execute_result"
    }
   ],
   "source": [
    "networks.parse_network_choice('ethereum:mainnet:alchemy').__enter__()"
   ]
  },
  {
   "cell_type": "code",
   "execution_count": 5,
   "id": "069b902c",
   "metadata": {},
   "outputs": [
    {
     "data": {
      "text/plain": [
       "<TestAccount 0x1e59ce931B4CFea3fe4B875411e280e173cB7A9C>"
      ]
     },
     "execution_count": 5,
     "metadata": {},
     "output_type": "execute_result"
    }
   ],
   "source": [
    "# get account 0\n",
    "dev = accounts.test_accounts[0]\n",
    "dev"
   ]
  },
  {
   "cell_type": "code",
   "execution_count": 6,
   "id": "becacf57",
   "metadata": {},
   "outputs": [
    {
     "data": {
      "text/plain": [
       "0"
      ]
     },
     "execution_count": 6,
     "metadata": {},
     "output_type": "execute_result"
    }
   ],
   "source": [
    "# get the balance of account 0\n",
    "dev.balance"
   ]
  },
  {
   "cell_type": "code",
   "execution_count": 7,
   "id": "542dac5f",
   "metadata": {},
   "outputs": [
    {
     "data": {
      "text/plain": [
       "15396535"
      ]
     },
     "execution_count": 7,
     "metadata": {},
     "output_type": "execute_result"
    }
   ],
   "source": [
    "current_block = chain.blocks[-1].number\n",
    "current_block"
   ]
  },
  {
   "cell_type": "code",
   "execution_count": 8,
   "id": "f558faa8",
   "metadata": {
    "scrolled": true
   },
   "outputs": [
    {
     "data": {
      "text/plain": [
       "14748535"
      ]
     },
     "execution_count": 8,
     "metadata": {},
     "output_type": "execute_result"
    }
   ],
   "source": [
    "dblocks = int(86400*90/12) # last 90 d\n",
    "start_block = current_block - dblocks\n",
    "start_block"
   ]
  },
  {
   "cell_type": "code",
   "execution_count": 9,
   "id": "5842fa52",
   "metadata": {},
   "outputs": [
    {
     "data": {
      "text/plain": [
       "<Vyper_contract 0xDC24316b9AE028F1497c275EB9192a3Ea0f67022>"
      ]
     },
     "execution_count": 9,
     "metadata": {},
     "output_type": "execute_result"
    }
   ],
   "source": [
    "curve_steth = Contract(\"0xDC24316b9AE028F1497c275EB9192a3Ea0f67022\")\n",
    "curve_steth"
   ]
  },
  {
   "cell_type": "code",
   "execution_count": 10,
   "id": "0c9c4c61",
   "metadata": {},
   "outputs": [
    {
     "data": {
      "text/plain": [
       "<Lido 0xae7ab96520DE3A18E5e111B5EaAb095312D7fE84>"
      ]
     },
     "execution_count": 10,
     "metadata": {},
     "output_type": "execute_result"
    }
   ],
   "source": [
    "steth = Contract(\"0xae7ab96520DE3A18E5e111B5EaAb095312D7fE84\")\n",
    "steth"
   ]
  },
  {
   "cell_type": "code",
   "execution_count": 11,
   "id": "efed5dfd",
   "metadata": {},
   "outputs": [
    {
     "data": {
      "text/plain": [
       "581506180404776305447325"
      ]
     },
     "execution_count": 11,
     "metadata": {},
     "output_type": "execute_result"
    }
   ],
   "source": [
    "steth.balanceOf(curve_steth)"
   ]
  },
  {
   "cell_type": "code",
   "execution_count": 12,
   "id": "7e281650",
   "metadata": {},
   "outputs": [
    {
     "data": {
      "text/plain": [
       "TokenExchange(address indexed buyer, int128 sold_id, uint256 tokens_sold, int128 bought_id, uint256 tokens_bought)"
      ]
     },
     "execution_count": 12,
     "metadata": {},
     "output_type": "execute_result"
    }
   ],
   "source": [
    "curve_steth.TokenExchange"
   ]
  },
  {
   "cell_type": "code",
   "execution_count": 13,
   "id": "f39d35af",
   "metadata": {},
   "outputs": [
    {
     "data": {
      "text/plain": [
       "ape.contracts.base.ContractEvent"
      ]
     },
     "execution_count": 13,
     "metadata": {},
     "output_type": "execute_result"
    }
   ],
   "source": [
    "type(curve_steth.TokenExchange)"
   ]
  },
  {
   "cell_type": "code",
   "execution_count": 14,
   "id": "629e5e2e",
   "metadata": {},
   "outputs": [
    {
     "name": "stdout",
     "output_type": "stream",
     "text": [
      "CPU times: user 292 ms, sys: 40.2 ms, total: 333 ms\n",
      "Wall time: 1.58 s\n"
     ]
    },
    {
     "data": {
      "text/html": [
       "<div>\n",
       "<style scoped>\n",
       "    .dataframe tbody tr th:only-of-type {\n",
       "        vertical-align: middle;\n",
       "    }\n",
       "\n",
       "    .dataframe tbody tr th {\n",
       "        vertical-align: top;\n",
       "    }\n",
       "\n",
       "    .dataframe thead th {\n",
       "        text-align: right;\n",
       "    }\n",
       "</style>\n",
       "<table border=\"1\" class=\"dataframe\">\n",
       "  <thead>\n",
       "    <tr style=\"text-align: right;\">\n",
       "      <th></th>\n",
       "      <th>event_name</th>\n",
       "      <th>contract_address</th>\n",
       "      <th>event_arguments</th>\n",
       "      <th>transaction_hash</th>\n",
       "      <th>block_number</th>\n",
       "      <th>block_hash</th>\n",
       "      <th>log_index</th>\n",
       "      <th>transaction_index</th>\n",
       "    </tr>\n",
       "  </thead>\n",
       "  <tbody>\n",
       "    <tr>\n",
       "      <th>0</th>\n",
       "      <td>TokenExchange</td>\n",
       "      <td>0xDC24316b9AE028F1497c275EB9192a3Ea0f67022</td>\n",
       "      <td>{'buyer': '0xF2F400C138F9fb900576263af0BC7fCde...</td>\n",
       "      <td>0x4ea89cfe927ba8cbaa6299fc24add2cf4a9dbdaa7af3...</td>\n",
       "      <td>15393536</td>\n",
       "      <td>0x72d74577761f2f3c7282c6f5fe005d084c225af44f97...</td>\n",
       "      <td>25</td>\n",
       "      <td>15</td>\n",
       "    </tr>\n",
       "    <tr>\n",
       "      <th>1</th>\n",
       "      <td>TokenExchange</td>\n",
       "      <td>0xDC24316b9AE028F1497c275EB9192a3Ea0f67022</td>\n",
       "      <td>{'buyer': '0xF2F400C138F9fb900576263af0BC7fCde...</td>\n",
       "      <td>0x76df1fbf2da4ee64e40e3f2903aa6cd65656c21cfcd8...</td>\n",
       "      <td>15393626</td>\n",
       "      <td>0x723a8c37bbbb807147c9f0327bac04738dc636fcee4b...</td>\n",
       "      <td>537</td>\n",
       "      <td>239</td>\n",
       "    </tr>\n",
       "    <tr>\n",
       "      <th>2</th>\n",
       "      <td>TokenExchange</td>\n",
       "      <td>0xDC24316b9AE028F1497c275EB9192a3Ea0f67022</td>\n",
       "      <td>{'buyer': '0x01fe96eaB6B2F7DD516A5460675a8c092...</td>\n",
       "      <td>0xe39229c03d90a7a05b3206b7f7dce8a921eba46123ec...</td>\n",
       "      <td>15393939</td>\n",
       "      <td>0xd99cd6c8aae411bdacf42fe7d01ef1161fc467671deb...</td>\n",
       "      <td>452</td>\n",
       "      <td>245</td>\n",
       "    </tr>\n",
       "    <tr>\n",
       "      <th>3</th>\n",
       "      <td>TokenExchange</td>\n",
       "      <td>0xDC24316b9AE028F1497c275EB9192a3Ea0f67022</td>\n",
       "      <td>{'buyer': '0xF2F400C138F9fb900576263af0BC7fCde...</td>\n",
       "      <td>0x68c29bb02152bcd84863d7fec89b52791fa744a8195b...</td>\n",
       "      <td>15393979</td>\n",
       "      <td>0xc76c2e239bec17568d8f8146e7b9b40e5e29b154e0db...</td>\n",
       "      <td>120</td>\n",
       "      <td>45</td>\n",
       "    </tr>\n",
       "    <tr>\n",
       "      <th>4</th>\n",
       "      <td>TokenExchange</td>\n",
       "      <td>0xDC24316b9AE028F1497c275EB9192a3Ea0f67022</td>\n",
       "      <td>{'buyer': '0x81C46fECa27B31F3ADC2b91eE4be9717d...</td>\n",
       "      <td>0xaafbbb376f81ec00f4c710b2874fef69277ce5e28c66...</td>\n",
       "      <td>15394124</td>\n",
       "      <td>0xf7001fa2c071e8ba2bcd2435266b9c99e85d2d00ba49...</td>\n",
       "      <td>448</td>\n",
       "      <td>175</td>\n",
       "    </tr>\n",
       "    <tr>\n",
       "      <th>...</th>\n",
       "      <td>...</td>\n",
       "      <td>...</td>\n",
       "      <td>...</td>\n",
       "      <td>...</td>\n",
       "      <td>...</td>\n",
       "      <td>...</td>\n",
       "      <td>...</td>\n",
       "      <td>...</td>\n",
       "    </tr>\n",
       "    <tr>\n",
       "      <th>58</th>\n",
       "      <td>TokenExchange</td>\n",
       "      <td>0xDC24316b9AE028F1497c275EB9192a3Ea0f67022</td>\n",
       "      <td>{'buyer': '0x0031130c56162e00A7e9C01eE4147b11c...</td>\n",
       "      <td>0xd8677db6827a6d65e8cd5cf2473f4ba3b523d7677eb8...</td>\n",
       "      <td>15396500</td>\n",
       "      <td>0x5444c814827f870368fd4f648c13af8b4df179538911...</td>\n",
       "      <td>68</td>\n",
       "      <td>99</td>\n",
       "    </tr>\n",
       "    <tr>\n",
       "      <th>59</th>\n",
       "      <td>TokenExchange</td>\n",
       "      <td>0xDC24316b9AE028F1497c275EB9192a3Ea0f67022</td>\n",
       "      <td>{'buyer': '0xe09801dA4C74e62fB42DFC8303a1C1BD6...</td>\n",
       "      <td>0xd8677db6827a6d65e8cd5cf2473f4ba3b523d7677eb8...</td>\n",
       "      <td>15396500</td>\n",
       "      <td>0x5444c814827f870368fd4f648c13af8b4df179538911...</td>\n",
       "      <td>83</td>\n",
       "      <td>99</td>\n",
       "    </tr>\n",
       "    <tr>\n",
       "      <th>60</th>\n",
       "      <td>TokenExchange</td>\n",
       "      <td>0xDC24316b9AE028F1497c275EB9192a3Ea0f67022</td>\n",
       "      <td>{'buyer': '0xe09801dA4C74e62fB42DFC8303a1C1BD6...</td>\n",
       "      <td>0xd8677db6827a6d65e8cd5cf2473f4ba3b523d7677eb8...</td>\n",
       "      <td>15396500</td>\n",
       "      <td>0x5444c814827f870368fd4f648c13af8b4df179538911...</td>\n",
       "      <td>87</td>\n",
       "      <td>99</td>\n",
       "    </tr>\n",
       "    <tr>\n",
       "      <th>61</th>\n",
       "      <td>TokenExchange</td>\n",
       "      <td>0xDC24316b9AE028F1497c275EB9192a3Ea0f67022</td>\n",
       "      <td>{'buyer': '0xD275E5cb559D6Dc236a5f8002A5f0b4c8...</td>\n",
       "      <td>0xaaedf819b7c48880a3ef70315bf3ba13c605d300f98b...</td>\n",
       "      <td>15396518</td>\n",
       "      <td>0x8e0c5ba5e1ec75f816ad33bd3ec2f84a910383eaf02c...</td>\n",
       "      <td>14</td>\n",
       "      <td>1</td>\n",
       "    </tr>\n",
       "    <tr>\n",
       "      <th>62</th>\n",
       "      <td>TokenExchange</td>\n",
       "      <td>0xDC24316b9AE028F1497c275EB9192a3Ea0f67022</td>\n",
       "      <td>{'buyer': '0xF2F400C138F9fb900576263af0BC7fCde...</td>\n",
       "      <td>0x286b7000faa4d1a26aabe6a6a5099d0baf0ebcca475c...</td>\n",
       "      <td>15396533</td>\n",
       "      <td>0xe35ad8949c755289e1fcf346277dd0b650246848de00...</td>\n",
       "      <td>109</td>\n",
       "      <td>54</td>\n",
       "    </tr>\n",
       "  </tbody>\n",
       "</table>\n",
       "<p>63 rows × 8 columns</p>\n",
       "</div>"
      ],
      "text/plain": [
       "       event_name                            contract_address  \\\n",
       "0   TokenExchange  0xDC24316b9AE028F1497c275EB9192a3Ea0f67022   \n",
       "1   TokenExchange  0xDC24316b9AE028F1497c275EB9192a3Ea0f67022   \n",
       "2   TokenExchange  0xDC24316b9AE028F1497c275EB9192a3Ea0f67022   \n",
       "3   TokenExchange  0xDC24316b9AE028F1497c275EB9192a3Ea0f67022   \n",
       "4   TokenExchange  0xDC24316b9AE028F1497c275EB9192a3Ea0f67022   \n",
       "..            ...                                         ...   \n",
       "58  TokenExchange  0xDC24316b9AE028F1497c275EB9192a3Ea0f67022   \n",
       "59  TokenExchange  0xDC24316b9AE028F1497c275EB9192a3Ea0f67022   \n",
       "60  TokenExchange  0xDC24316b9AE028F1497c275EB9192a3Ea0f67022   \n",
       "61  TokenExchange  0xDC24316b9AE028F1497c275EB9192a3Ea0f67022   \n",
       "62  TokenExchange  0xDC24316b9AE028F1497c275EB9192a3Ea0f67022   \n",
       "\n",
       "                                      event_arguments  \\\n",
       "0   {'buyer': '0xF2F400C138F9fb900576263af0BC7fCde...   \n",
       "1   {'buyer': '0xF2F400C138F9fb900576263af0BC7fCde...   \n",
       "2   {'buyer': '0x01fe96eaB6B2F7DD516A5460675a8c092...   \n",
       "3   {'buyer': '0xF2F400C138F9fb900576263af0BC7fCde...   \n",
       "4   {'buyer': '0x81C46fECa27B31F3ADC2b91eE4be9717d...   \n",
       "..                                                ...   \n",
       "58  {'buyer': '0x0031130c56162e00A7e9C01eE4147b11c...   \n",
       "59  {'buyer': '0xe09801dA4C74e62fB42DFC8303a1C1BD6...   \n",
       "60  {'buyer': '0xe09801dA4C74e62fB42DFC8303a1C1BD6...   \n",
       "61  {'buyer': '0xD275E5cb559D6Dc236a5f8002A5f0b4c8...   \n",
       "62  {'buyer': '0xF2F400C138F9fb900576263af0BC7fCde...   \n",
       "\n",
       "                                     transaction_hash  block_number  \\\n",
       "0   0x4ea89cfe927ba8cbaa6299fc24add2cf4a9dbdaa7af3...      15393536   \n",
       "1   0x76df1fbf2da4ee64e40e3f2903aa6cd65656c21cfcd8...      15393626   \n",
       "2   0xe39229c03d90a7a05b3206b7f7dce8a921eba46123ec...      15393939   \n",
       "3   0x68c29bb02152bcd84863d7fec89b52791fa744a8195b...      15393979   \n",
       "4   0xaafbbb376f81ec00f4c710b2874fef69277ce5e28c66...      15394124   \n",
       "..                                                ...           ...   \n",
       "58  0xd8677db6827a6d65e8cd5cf2473f4ba3b523d7677eb8...      15396500   \n",
       "59  0xd8677db6827a6d65e8cd5cf2473f4ba3b523d7677eb8...      15396500   \n",
       "60  0xd8677db6827a6d65e8cd5cf2473f4ba3b523d7677eb8...      15396500   \n",
       "61  0xaaedf819b7c48880a3ef70315bf3ba13c605d300f98b...      15396518   \n",
       "62  0x286b7000faa4d1a26aabe6a6a5099d0baf0ebcca475c...      15396533   \n",
       "\n",
       "                                           block_hash  log_index  \\\n",
       "0   0x72d74577761f2f3c7282c6f5fe005d084c225af44f97...         25   \n",
       "1   0x723a8c37bbbb807147c9f0327bac04738dc636fcee4b...        537   \n",
       "2   0xd99cd6c8aae411bdacf42fe7d01ef1161fc467671deb...        452   \n",
       "3   0xc76c2e239bec17568d8f8146e7b9b40e5e29b154e0db...        120   \n",
       "4   0xf7001fa2c071e8ba2bcd2435266b9c99e85d2d00ba49...        448   \n",
       "..                                                ...        ...   \n",
       "58  0x5444c814827f870368fd4f648c13af8b4df179538911...         68   \n",
       "59  0x5444c814827f870368fd4f648c13af8b4df179538911...         83   \n",
       "60  0x5444c814827f870368fd4f648c13af8b4df179538911...         87   \n",
       "61  0x8e0c5ba5e1ec75f816ad33bd3ec2f84a910383eaf02c...         14   \n",
       "62  0xe35ad8949c755289e1fcf346277dd0b650246848de00...        109   \n",
       "\n",
       "    transaction_index  \n",
       "0                  15  \n",
       "1                 239  \n",
       "2                 245  \n",
       "3                  45  \n",
       "4                 175  \n",
       "..                ...  \n",
       "58                 99  \n",
       "59                 99  \n",
       "60                 99  \n",
       "61                  1  \n",
       "62                 54  \n",
       "\n",
       "[63 rows x 8 columns]"
      ]
     },
     "execution_count": 14,
     "metadata": {},
     "output_type": "execute_result"
    }
   ],
   "source": [
    "%time query_swaps_recent = curve_steth.TokenExchange.query(\"*\", start_block=current_block-3000) # last 10 hr\n",
    "query_swaps_recent"
   ]
  },
  {
   "cell_type": "code",
   "execution_count": 15,
   "id": "12886651",
   "metadata": {},
   "outputs": [
    {
     "data": {
      "text/plain": [
       "pandas.core.frame.DataFrame"
      ]
     },
     "execution_count": 15,
     "metadata": {},
     "output_type": "execute_result"
    }
   ],
   "source": [
    "# sweet, very cool :)\n",
    "type(query_swaps_recent)"
   ]
  },
  {
   "cell_type": "code",
   "execution_count": 16,
   "id": "61f9b0b8",
   "metadata": {},
   "outputs": [
    {
     "data": {
      "text/plain": [
       "0    {'buyer': '0xF2F400C138F9fb900576263af0BC7fCde...\n",
       "1    {'buyer': '0xF2F400C138F9fb900576263af0BC7fCde...\n",
       "2    {'buyer': '0x01fe96eaB6B2F7DD516A5460675a8c092...\n",
       "3    {'buyer': '0xF2F400C138F9fb900576263af0BC7fCde...\n",
       "4    {'buyer': '0x81C46fECa27B31F3ADC2b91eE4be9717d...\n",
       "5    {'buyer': '0xF2F400C138F9fb900576263af0BC7fCde...\n",
       "6    {'buyer': '0x91000060399502550000007bbfBA0052F...\n",
       "7    {'buyer': '0xF2F400C138F9fb900576263af0BC7fCde...\n",
       "8    {'buyer': '0xF2F400C138F9fb900576263af0BC7fCde...\n",
       "9    {'buyer': '0xE4000004000bd8006e00720000d27d1FA...\n",
       "Name: event_arguments, dtype: object"
      ]
     },
     "execution_count": 16,
     "metadata": {},
     "output_type": "execute_result"
    }
   ],
   "source": [
    "# take a deeper dive into event arguments column. it's a pandas series\n",
    "query_swaps_recent[\"event_arguments\"][:10]"
   ]
  },
  {
   "cell_type": "code",
   "execution_count": 17,
   "id": "abffe356",
   "metadata": {},
   "outputs": [
    {
     "data": {
      "text/plain": [
       "pandas.core.series.Series"
      ]
     },
     "execution_count": 17,
     "metadata": {},
     "output_type": "execute_result"
    }
   ],
   "source": [
    "type(query_swaps_recent[\"event_arguments\"])"
   ]
  },
  {
   "cell_type": "code",
   "execution_count": 18,
   "id": "2e5079a8",
   "metadata": {},
   "outputs": [
    {
     "data": {
      "text/plain": [
       "{'buyer': '0xF2F400C138F9fb900576263af0BC7fCde2B1b8a8',\n",
       " 'sold_id': 1,\n",
       " 'tokens_sold': 678591094880935624,\n",
       " 'bought_id': 0,\n",
       " 'tokens_bought': 660560095860248881}"
      ]
     },
     "execution_count": 18,
     "metadata": {},
     "output_type": "execute_result"
    }
   ],
   "source": [
    "query_swaps_recent[\"event_arguments\"].iloc[-1]"
   ]
  },
  {
   "cell_type": "code",
   "execution_count": 19,
   "id": "29580294",
   "metadata": {},
   "outputs": [
    {
     "name": "stdout",
     "output_type": "stream",
     "text": [
      "CPU times: user 37.7 s, sys: 5.72 s, total: 43.5 s\n",
      "Wall time: 3min 14s\n"
     ]
    },
    {
     "data": {
      "text/html": [
       "<div>\n",
       "<style scoped>\n",
       "    .dataframe tbody tr th:only-of-type {\n",
       "        vertical-align: middle;\n",
       "    }\n",
       "\n",
       "    .dataframe tbody tr th {\n",
       "        vertical-align: top;\n",
       "    }\n",
       "\n",
       "    .dataframe thead th {\n",
       "        text-align: right;\n",
       "    }\n",
       "</style>\n",
       "<table border=\"1\" class=\"dataframe\">\n",
       "  <thead>\n",
       "    <tr style=\"text-align: right;\">\n",
       "      <th></th>\n",
       "      <th>event_name</th>\n",
       "      <th>contract_address</th>\n",
       "      <th>event_arguments</th>\n",
       "      <th>transaction_hash</th>\n",
       "      <th>block_number</th>\n",
       "      <th>block_hash</th>\n",
       "      <th>log_index</th>\n",
       "      <th>transaction_index</th>\n",
       "    </tr>\n",
       "  </thead>\n",
       "  <tbody>\n",
       "    <tr>\n",
       "      <th>0</th>\n",
       "      <td>TokenExchange</td>\n",
       "      <td>0xDC24316b9AE028F1497c275EB9192a3Ea0f67022</td>\n",
       "      <td>{'buyer': '0x0000000000007F150Bd6f54c40A34d7C3...</td>\n",
       "      <td>0xa4bdec62ae15188f0b45e20ce54ab6d7ec0f7d64ea35...</td>\n",
       "      <td>14748577</td>\n",
       "      <td>0x8df278c069d41e1a8b0bab4dc2d8119ac88b043bedf6...</td>\n",
       "      <td>51</td>\n",
       "      <td>7</td>\n",
       "    </tr>\n",
       "    <tr>\n",
       "      <th>1</th>\n",
       "      <td>TokenExchange</td>\n",
       "      <td>0xDC24316b9AE028F1497c275EB9192a3Ea0f67022</td>\n",
       "      <td>{'buyer': '0xD9F01a5e8801032785bEb6DC4f242287d...</td>\n",
       "      <td>0xd07301249cc8f1a4f14b8d611038a0013e9057ffd870...</td>\n",
       "      <td>14748583</td>\n",
       "      <td>0x0e4978d24723c4eaf6c688af4b08cd5e3532768a5ea2...</td>\n",
       "      <td>69</td>\n",
       "      <td>98</td>\n",
       "    </tr>\n",
       "    <tr>\n",
       "      <th>2</th>\n",
       "      <td>TokenExchange</td>\n",
       "      <td>0xDC24316b9AE028F1497c275EB9192a3Ea0f67022</td>\n",
       "      <td>{'buyer': '0x0000000000007F150Bd6f54c40A34d7C3...</td>\n",
       "      <td>0xf9c44b7763e0ba518a4c45c6457997b5a1454d82a183...</td>\n",
       "      <td>14748586</td>\n",
       "      <td>0xa329eb47bb3bcbd2e4a5fd07a10d19ba73866da54133...</td>\n",
       "      <td>60</td>\n",
       "      <td>29</td>\n",
       "    </tr>\n",
       "    <tr>\n",
       "      <th>3</th>\n",
       "      <td>TokenExchange</td>\n",
       "      <td>0xDC24316b9AE028F1497c275EB9192a3Ea0f67022</td>\n",
       "      <td>{'buyer': '0x22F9dCF4647084d6C31b2765F6910cd85...</td>\n",
       "      <td>0xfd9019622d3b289ff007157d6dd368b25eab52c83d09...</td>\n",
       "      <td>14748602</td>\n",
       "      <td>0x4fae047116cb9897d37b6c0abd9e40cad7d46c1774e3...</td>\n",
       "      <td>119</td>\n",
       "      <td>253</td>\n",
       "    </tr>\n",
       "    <tr>\n",
       "      <th>4</th>\n",
       "      <td>TokenExchange</td>\n",
       "      <td>0xDC24316b9AE028F1497c275EB9192a3Ea0f67022</td>\n",
       "      <td>{'buyer': '0x220bdA5c8994804Ac96ebe4DF184d25e5...</td>\n",
       "      <td>0x516bc8a4f97b7f10e8f70357688906a8bf50becad56b...</td>\n",
       "      <td>14748605</td>\n",
       "      <td>0xc4893f256e429240eb3e74703c8ccaac29c57657ec10...</td>\n",
       "      <td>214</td>\n",
       "      <td>162</td>\n",
       "    </tr>\n",
       "    <tr>\n",
       "      <th>...</th>\n",
       "      <td>...</td>\n",
       "      <td>...</td>\n",
       "      <td>...</td>\n",
       "      <td>...</td>\n",
       "      <td>...</td>\n",
       "      <td>...</td>\n",
       "      <td>...</td>\n",
       "      <td>...</td>\n",
       "    </tr>\n",
       "    <tr>\n",
       "      <th>22299</th>\n",
       "      <td>TokenExchange</td>\n",
       "      <td>0xDC24316b9AE028F1497c275EB9192a3Ea0f67022</td>\n",
       "      <td>{'buyer': '0x0031130c56162e00A7e9C01eE4147b11c...</td>\n",
       "      <td>0xd8677db6827a6d65e8cd5cf2473f4ba3b523d7677eb8...</td>\n",
       "      <td>15396500</td>\n",
       "      <td>0x5444c814827f870368fd4f648c13af8b4df179538911...</td>\n",
       "      <td>68</td>\n",
       "      <td>99</td>\n",
       "    </tr>\n",
       "    <tr>\n",
       "      <th>22300</th>\n",
       "      <td>TokenExchange</td>\n",
       "      <td>0xDC24316b9AE028F1497c275EB9192a3Ea0f67022</td>\n",
       "      <td>{'buyer': '0xe09801dA4C74e62fB42DFC8303a1C1BD6...</td>\n",
       "      <td>0xd8677db6827a6d65e8cd5cf2473f4ba3b523d7677eb8...</td>\n",
       "      <td>15396500</td>\n",
       "      <td>0x5444c814827f870368fd4f648c13af8b4df179538911...</td>\n",
       "      <td>83</td>\n",
       "      <td>99</td>\n",
       "    </tr>\n",
       "    <tr>\n",
       "      <th>22301</th>\n",
       "      <td>TokenExchange</td>\n",
       "      <td>0xDC24316b9AE028F1497c275EB9192a3Ea0f67022</td>\n",
       "      <td>{'buyer': '0xe09801dA4C74e62fB42DFC8303a1C1BD6...</td>\n",
       "      <td>0xd8677db6827a6d65e8cd5cf2473f4ba3b523d7677eb8...</td>\n",
       "      <td>15396500</td>\n",
       "      <td>0x5444c814827f870368fd4f648c13af8b4df179538911...</td>\n",
       "      <td>87</td>\n",
       "      <td>99</td>\n",
       "    </tr>\n",
       "    <tr>\n",
       "      <th>22302</th>\n",
       "      <td>TokenExchange</td>\n",
       "      <td>0xDC24316b9AE028F1497c275EB9192a3Ea0f67022</td>\n",
       "      <td>{'buyer': '0xD275E5cb559D6Dc236a5f8002A5f0b4c8...</td>\n",
       "      <td>0xaaedf819b7c48880a3ef70315bf3ba13c605d300f98b...</td>\n",
       "      <td>15396518</td>\n",
       "      <td>0x8e0c5ba5e1ec75f816ad33bd3ec2f84a910383eaf02c...</td>\n",
       "      <td>14</td>\n",
       "      <td>1</td>\n",
       "    </tr>\n",
       "    <tr>\n",
       "      <th>22303</th>\n",
       "      <td>TokenExchange</td>\n",
       "      <td>0xDC24316b9AE028F1497c275EB9192a3Ea0f67022</td>\n",
       "      <td>{'buyer': '0xF2F400C138F9fb900576263af0BC7fCde...</td>\n",
       "      <td>0x286b7000faa4d1a26aabe6a6a5099d0baf0ebcca475c...</td>\n",
       "      <td>15396533</td>\n",
       "      <td>0xe35ad8949c755289e1fcf346277dd0b650246848de00...</td>\n",
       "      <td>109</td>\n",
       "      <td>54</td>\n",
       "    </tr>\n",
       "  </tbody>\n",
       "</table>\n",
       "<p>22304 rows × 8 columns</p>\n",
       "</div>"
      ],
      "text/plain": [
       "          event_name                            contract_address  \\\n",
       "0      TokenExchange  0xDC24316b9AE028F1497c275EB9192a3Ea0f67022   \n",
       "1      TokenExchange  0xDC24316b9AE028F1497c275EB9192a3Ea0f67022   \n",
       "2      TokenExchange  0xDC24316b9AE028F1497c275EB9192a3Ea0f67022   \n",
       "3      TokenExchange  0xDC24316b9AE028F1497c275EB9192a3Ea0f67022   \n",
       "4      TokenExchange  0xDC24316b9AE028F1497c275EB9192a3Ea0f67022   \n",
       "...              ...                                         ...   \n",
       "22299  TokenExchange  0xDC24316b9AE028F1497c275EB9192a3Ea0f67022   \n",
       "22300  TokenExchange  0xDC24316b9AE028F1497c275EB9192a3Ea0f67022   \n",
       "22301  TokenExchange  0xDC24316b9AE028F1497c275EB9192a3Ea0f67022   \n",
       "22302  TokenExchange  0xDC24316b9AE028F1497c275EB9192a3Ea0f67022   \n",
       "22303  TokenExchange  0xDC24316b9AE028F1497c275EB9192a3Ea0f67022   \n",
       "\n",
       "                                         event_arguments  \\\n",
       "0      {'buyer': '0x0000000000007F150Bd6f54c40A34d7C3...   \n",
       "1      {'buyer': '0xD9F01a5e8801032785bEb6DC4f242287d...   \n",
       "2      {'buyer': '0x0000000000007F150Bd6f54c40A34d7C3...   \n",
       "3      {'buyer': '0x22F9dCF4647084d6C31b2765F6910cd85...   \n",
       "4      {'buyer': '0x220bdA5c8994804Ac96ebe4DF184d25e5...   \n",
       "...                                                  ...   \n",
       "22299  {'buyer': '0x0031130c56162e00A7e9C01eE4147b11c...   \n",
       "22300  {'buyer': '0xe09801dA4C74e62fB42DFC8303a1C1BD6...   \n",
       "22301  {'buyer': '0xe09801dA4C74e62fB42DFC8303a1C1BD6...   \n",
       "22302  {'buyer': '0xD275E5cb559D6Dc236a5f8002A5f0b4c8...   \n",
       "22303  {'buyer': '0xF2F400C138F9fb900576263af0BC7fCde...   \n",
       "\n",
       "                                        transaction_hash  block_number  \\\n",
       "0      0xa4bdec62ae15188f0b45e20ce54ab6d7ec0f7d64ea35...      14748577   \n",
       "1      0xd07301249cc8f1a4f14b8d611038a0013e9057ffd870...      14748583   \n",
       "2      0xf9c44b7763e0ba518a4c45c6457997b5a1454d82a183...      14748586   \n",
       "3      0xfd9019622d3b289ff007157d6dd368b25eab52c83d09...      14748602   \n",
       "4      0x516bc8a4f97b7f10e8f70357688906a8bf50becad56b...      14748605   \n",
       "...                                                  ...           ...   \n",
       "22299  0xd8677db6827a6d65e8cd5cf2473f4ba3b523d7677eb8...      15396500   \n",
       "22300  0xd8677db6827a6d65e8cd5cf2473f4ba3b523d7677eb8...      15396500   \n",
       "22301  0xd8677db6827a6d65e8cd5cf2473f4ba3b523d7677eb8...      15396500   \n",
       "22302  0xaaedf819b7c48880a3ef70315bf3ba13c605d300f98b...      15396518   \n",
       "22303  0x286b7000faa4d1a26aabe6a6a5099d0baf0ebcca475c...      15396533   \n",
       "\n",
       "                                              block_hash  log_index  \\\n",
       "0      0x8df278c069d41e1a8b0bab4dc2d8119ac88b043bedf6...         51   \n",
       "1      0x0e4978d24723c4eaf6c688af4b08cd5e3532768a5ea2...         69   \n",
       "2      0xa329eb47bb3bcbd2e4a5fd07a10d19ba73866da54133...         60   \n",
       "3      0x4fae047116cb9897d37b6c0abd9e40cad7d46c1774e3...        119   \n",
       "4      0xc4893f256e429240eb3e74703c8ccaac29c57657ec10...        214   \n",
       "...                                                  ...        ...   \n",
       "22299  0x5444c814827f870368fd4f648c13af8b4df179538911...         68   \n",
       "22300  0x5444c814827f870368fd4f648c13af8b4df179538911...         83   \n",
       "22301  0x5444c814827f870368fd4f648c13af8b4df179538911...         87   \n",
       "22302  0x8e0c5ba5e1ec75f816ad33bd3ec2f84a910383eaf02c...         14   \n",
       "22303  0xe35ad8949c755289e1fcf346277dd0b650246848de00...        109   \n",
       "\n",
       "       transaction_index  \n",
       "0                      7  \n",
       "1                     98  \n",
       "2                     29  \n",
       "3                    253  \n",
       "4                    162  \n",
       "...                  ...  \n",
       "22299                 99  \n",
       "22300                 99  \n",
       "22301                 99  \n",
       "22302                  1  \n",
       "22303                 54  \n",
       "\n",
       "[22304 rows x 8 columns]"
      ]
     },
     "execution_count": 19,
     "metadata": {},
     "output_type": "execute_result"
    }
   ],
   "source": [
    "# ok great. let's look a bit farther into the past to start_block from above. see how long it takes\n",
    "%time query_swaps = curve_steth.TokenExchange.query(\"*\", start_block=start_block)\n",
    "query_swaps"
   ]
  },
  {
   "cell_type": "code",
   "execution_count": 20,
   "id": "11b8e5ca",
   "metadata": {},
   "outputs": [
    {
     "data": {
      "text/plain": [
       "['0xEeeeeEeeeEeEeeEeEeEeeEEEeeeeEeeeeeeeEEeE',\n",
       " '0xae7ab96520DE3A18E5e111B5EaAb095312D7fE84']"
      ]
     },
     "execution_count": 20,
     "metadata": {},
     "output_type": "execute_result"
    }
   ],
   "source": [
    "# get coin indices:\n",
    "#  - 0 = ETH (native)\n",
    "#  - 1 = stETH\n",
    "coin_indices = [curve_steth.coins(i) for i in range(2)]\n",
    "coin_indices"
   ]
  },
  {
   "cell_type": "code",
   "execution_count": 21,
   "id": "65b54df5",
   "metadata": {},
   "outputs": [
    {
     "data": {
      "text/plain": [
       "True"
      ]
     },
     "execution_count": 21,
     "metadata": {},
     "output_type": "execute_result"
    }
   ],
   "source": [
    "steth.address == coin_indices[-1]"
   ]
  },
  {
   "cell_type": "code",
   "execution_count": 22,
   "id": "a1801ec8",
   "metadata": {},
   "outputs": [
    {
     "data": {
      "text/plain": [
       "0.0004"
      ]
     },
     "execution_count": 22,
     "metadata": {},
     "output_type": "execute_result"
    }
   ],
   "source": [
    "# cache the fee to calculate associated price correctly (prior to fees applied)\n",
    "curve_steth_fee = curve_steth.fee() / 1e10  # fee denom is 1e10\n",
    "curve_steth_fee"
   ]
  },
  {
   "cell_type": "code",
   "execution_count": 23,
   "id": "9db01db2",
   "metadata": {},
   "outputs": [
    {
     "name": "stdout",
     "output_type": "stream",
     "text": [
      "last swap event: {'buyer': '0xF2F400C138F9fb900576263af0BC7fCde2B1b8a8', 'sold_id': 1, 'tokens_sold': 678591094880935624, 'bought_id': 0, 'tokens_bought': 660560095860248881}\n",
      "price: 0.973818143037288\n"
     ]
    }
   ],
   "source": [
    "# if sold_id == 1, then selling stETH for ETH, which is price wanted\n",
    "#  i.e. quote = <ETH>, base = <stETH>\n",
    "last_swap = query_swaps[\"event_arguments\"].iloc[-1]\n",
    "print('last swap event:', last_swap)\n",
    "\n",
    "last_price = last_swap['tokens_bought'] * (1+curve_steth_fee) / last_swap['tokens_sold']\n",
    "if last_swap['sold_id'] == 0:\n",
    "    last_price = 1 / last_price\n",
    "print('price:', last_price)"
   ]
  },
  {
   "cell_type": "code",
   "execution_count": 24,
   "id": "05daceae",
   "metadata": {},
   "outputs": [],
   "source": [
    "# write a function that iterates over event_arguments to calculate marginal price from last token swap\n",
    "def get_price(event_args: dict) -> float:\n",
    "    price = event_args['tokens_bought'] * (1+curve_steth_fee) / event_args['tokens_sold']\n",
    "    if event_args['sold_id'] == 0:\n",
    "        price = 1 / price\n",
    "    return price"
   ]
  },
  {
   "cell_type": "code",
   "execution_count": 25,
   "id": "8f06306a",
   "metadata": {},
   "outputs": [
    {
     "data": {
      "text/plain": [
       "True"
      ]
     },
     "execution_count": 25,
     "metadata": {},
     "output_type": "execute_result"
    }
   ],
   "source": [
    "# validate with logic in cell above for last price\n",
    "get_price(query_swaps[\"event_arguments\"].iloc[-1]) == last_price"
   ]
  },
  {
   "cell_type": "code",
   "execution_count": 26,
   "id": "18eede99",
   "metadata": {},
   "outputs": [
    {
     "data": {
      "text/html": [
       "<div>\n",
       "<style scoped>\n",
       "    .dataframe tbody tr th:only-of-type {\n",
       "        vertical-align: middle;\n",
       "    }\n",
       "\n",
       "    .dataframe tbody tr th {\n",
       "        vertical-align: top;\n",
       "    }\n",
       "\n",
       "    .dataframe thead th {\n",
       "        text-align: right;\n",
       "    }\n",
       "</style>\n",
       "<table border=\"1\" class=\"dataframe\">\n",
       "  <thead>\n",
       "    <tr style=\"text-align: right;\">\n",
       "      <th></th>\n",
       "      <th>event_name</th>\n",
       "      <th>contract_address</th>\n",
       "      <th>event_arguments</th>\n",
       "      <th>transaction_hash</th>\n",
       "      <th>block_number</th>\n",
       "      <th>block_hash</th>\n",
       "      <th>log_index</th>\n",
       "      <th>transaction_index</th>\n",
       "      <th>price (STETH/ETH)</th>\n",
       "    </tr>\n",
       "  </thead>\n",
       "  <tbody>\n",
       "    <tr>\n",
       "      <th>0</th>\n",
       "      <td>TokenExchange</td>\n",
       "      <td>0xDC24316b9AE028F1497c275EB9192a3Ea0f67022</td>\n",
       "      <td>{'buyer': '0x0000000000007F150Bd6f54c40A34d7C3...</td>\n",
       "      <td>0xa4bdec62ae15188f0b45e20ce54ab6d7ec0f7d64ea35...</td>\n",
       "      <td>14748577</td>\n",
       "      <td>0x8df278c069d41e1a8b0bab4dc2d8119ac88b043bedf6...</td>\n",
       "      <td>51</td>\n",
       "      <td>7</td>\n",
       "      <td>0.993263</td>\n",
       "    </tr>\n",
       "    <tr>\n",
       "      <th>1</th>\n",
       "      <td>TokenExchange</td>\n",
       "      <td>0xDC24316b9AE028F1497c275EB9192a3Ea0f67022</td>\n",
       "      <td>{'buyer': '0xD9F01a5e8801032785bEb6DC4f242287d...</td>\n",
       "      <td>0xd07301249cc8f1a4f14b8d611038a0013e9057ffd870...</td>\n",
       "      <td>14748583</td>\n",
       "      <td>0x0e4978d24723c4eaf6c688af4b08cd5e3532768a5ea2...</td>\n",
       "      <td>69</td>\n",
       "      <td>98</td>\n",
       "      <td>0.993262</td>\n",
       "    </tr>\n",
       "    <tr>\n",
       "      <th>2</th>\n",
       "      <td>TokenExchange</td>\n",
       "      <td>0xDC24316b9AE028F1497c275EB9192a3Ea0f67022</td>\n",
       "      <td>{'buyer': '0x0000000000007F150Bd6f54c40A34d7C3...</td>\n",
       "      <td>0xf9c44b7763e0ba518a4c45c6457997b5a1454d82a183...</td>\n",
       "      <td>14748586</td>\n",
       "      <td>0xa329eb47bb3bcbd2e4a5fd07a10d19ba73866da54133...</td>\n",
       "      <td>60</td>\n",
       "      <td>29</td>\n",
       "      <td>0.993263</td>\n",
       "    </tr>\n",
       "    <tr>\n",
       "      <th>3</th>\n",
       "      <td>TokenExchange</td>\n",
       "      <td>0xDC24316b9AE028F1497c275EB9192a3Ea0f67022</td>\n",
       "      <td>{'buyer': '0x22F9dCF4647084d6C31b2765F6910cd85...</td>\n",
       "      <td>0xfd9019622d3b289ff007157d6dd368b25eab52c83d09...</td>\n",
       "      <td>14748602</td>\n",
       "      <td>0x4fae047116cb9897d37b6c0abd9e40cad7d46c1774e3...</td>\n",
       "      <td>119</td>\n",
       "      <td>253</td>\n",
       "      <td>0.993261</td>\n",
       "    </tr>\n",
       "    <tr>\n",
       "      <th>4</th>\n",
       "      <td>TokenExchange</td>\n",
       "      <td>0xDC24316b9AE028F1497c275EB9192a3Ea0f67022</td>\n",
       "      <td>{'buyer': '0x220bdA5c8994804Ac96ebe4DF184d25e5...</td>\n",
       "      <td>0x516bc8a4f97b7f10e8f70357688906a8bf50becad56b...</td>\n",
       "      <td>14748605</td>\n",
       "      <td>0xc4893f256e429240eb3e74703c8ccaac29c57657ec10...</td>\n",
       "      <td>214</td>\n",
       "      <td>162</td>\n",
       "      <td>0.993261</td>\n",
       "    </tr>\n",
       "    <tr>\n",
       "      <th>...</th>\n",
       "      <td>...</td>\n",
       "      <td>...</td>\n",
       "      <td>...</td>\n",
       "      <td>...</td>\n",
       "      <td>...</td>\n",
       "      <td>...</td>\n",
       "      <td>...</td>\n",
       "      <td>...</td>\n",
       "      <td>...</td>\n",
       "    </tr>\n",
       "    <tr>\n",
       "      <th>22299</th>\n",
       "      <td>TokenExchange</td>\n",
       "      <td>0xDC24316b9AE028F1497c275EB9192a3Ea0f67022</td>\n",
       "      <td>{'buyer': '0x0031130c56162e00A7e9C01eE4147b11c...</td>\n",
       "      <td>0xd8677db6827a6d65e8cd5cf2473f4ba3b523d7677eb8...</td>\n",
       "      <td>15396500</td>\n",
       "      <td>0x5444c814827f870368fd4f648c13af8b4df179538911...</td>\n",
       "      <td>68</td>\n",
       "      <td>99</td>\n",
       "      <td>0.974094</td>\n",
       "    </tr>\n",
       "    <tr>\n",
       "      <th>22300</th>\n",
       "      <td>TokenExchange</td>\n",
       "      <td>0xDC24316b9AE028F1497c275EB9192a3Ea0f67022</td>\n",
       "      <td>{'buyer': '0xe09801dA4C74e62fB42DFC8303a1C1BD6...</td>\n",
       "      <td>0xd8677db6827a6d65e8cd5cf2473f4ba3b523d7677eb8...</td>\n",
       "      <td>15396500</td>\n",
       "      <td>0x5444c814827f870368fd4f648c13af8b4df179538911...</td>\n",
       "      <td>83</td>\n",
       "      <td>99</td>\n",
       "      <td>0.974094</td>\n",
       "    </tr>\n",
       "    <tr>\n",
       "      <th>22301</th>\n",
       "      <td>TokenExchange</td>\n",
       "      <td>0xDC24316b9AE028F1497c275EB9192a3Ea0f67022</td>\n",
       "      <td>{'buyer': '0xe09801dA4C74e62fB42DFC8303a1C1BD6...</td>\n",
       "      <td>0xd8677db6827a6d65e8cd5cf2473f4ba3b523d7677eb8...</td>\n",
       "      <td>15396500</td>\n",
       "      <td>0x5444c814827f870368fd4f648c13af8b4df179538911...</td>\n",
       "      <td>87</td>\n",
       "      <td>99</td>\n",
       "      <td>0.974094</td>\n",
       "    </tr>\n",
       "    <tr>\n",
       "      <th>22302</th>\n",
       "      <td>TokenExchange</td>\n",
       "      <td>0xDC24316b9AE028F1497c275EB9192a3Ea0f67022</td>\n",
       "      <td>{'buyer': '0xD275E5cb559D6Dc236a5f8002A5f0b4c8...</td>\n",
       "      <td>0xaaedf819b7c48880a3ef70315bf3ba13c605d300f98b...</td>\n",
       "      <td>15396518</td>\n",
       "      <td>0x8e0c5ba5e1ec75f816ad33bd3ec2f84a910383eaf02c...</td>\n",
       "      <td>14</td>\n",
       "      <td>1</td>\n",
       "      <td>0.973960</td>\n",
       "    </tr>\n",
       "    <tr>\n",
       "      <th>22303</th>\n",
       "      <td>TokenExchange</td>\n",
       "      <td>0xDC24316b9AE028F1497c275EB9192a3Ea0f67022</td>\n",
       "      <td>{'buyer': '0xF2F400C138F9fb900576263af0BC7fCde...</td>\n",
       "      <td>0x286b7000faa4d1a26aabe6a6a5099d0baf0ebcca475c...</td>\n",
       "      <td>15396533</td>\n",
       "      <td>0xe35ad8949c755289e1fcf346277dd0b650246848de00...</td>\n",
       "      <td>109</td>\n",
       "      <td>54</td>\n",
       "      <td>0.973818</td>\n",
       "    </tr>\n",
       "  </tbody>\n",
       "</table>\n",
       "<p>22304 rows × 9 columns</p>\n",
       "</div>"
      ],
      "text/plain": [
       "          event_name                            contract_address  \\\n",
       "0      TokenExchange  0xDC24316b9AE028F1497c275EB9192a3Ea0f67022   \n",
       "1      TokenExchange  0xDC24316b9AE028F1497c275EB9192a3Ea0f67022   \n",
       "2      TokenExchange  0xDC24316b9AE028F1497c275EB9192a3Ea0f67022   \n",
       "3      TokenExchange  0xDC24316b9AE028F1497c275EB9192a3Ea0f67022   \n",
       "4      TokenExchange  0xDC24316b9AE028F1497c275EB9192a3Ea0f67022   \n",
       "...              ...                                         ...   \n",
       "22299  TokenExchange  0xDC24316b9AE028F1497c275EB9192a3Ea0f67022   \n",
       "22300  TokenExchange  0xDC24316b9AE028F1497c275EB9192a3Ea0f67022   \n",
       "22301  TokenExchange  0xDC24316b9AE028F1497c275EB9192a3Ea0f67022   \n",
       "22302  TokenExchange  0xDC24316b9AE028F1497c275EB9192a3Ea0f67022   \n",
       "22303  TokenExchange  0xDC24316b9AE028F1497c275EB9192a3Ea0f67022   \n",
       "\n",
       "                                         event_arguments  \\\n",
       "0      {'buyer': '0x0000000000007F150Bd6f54c40A34d7C3...   \n",
       "1      {'buyer': '0xD9F01a5e8801032785bEb6DC4f242287d...   \n",
       "2      {'buyer': '0x0000000000007F150Bd6f54c40A34d7C3...   \n",
       "3      {'buyer': '0x22F9dCF4647084d6C31b2765F6910cd85...   \n",
       "4      {'buyer': '0x220bdA5c8994804Ac96ebe4DF184d25e5...   \n",
       "...                                                  ...   \n",
       "22299  {'buyer': '0x0031130c56162e00A7e9C01eE4147b11c...   \n",
       "22300  {'buyer': '0xe09801dA4C74e62fB42DFC8303a1C1BD6...   \n",
       "22301  {'buyer': '0xe09801dA4C74e62fB42DFC8303a1C1BD6...   \n",
       "22302  {'buyer': '0xD275E5cb559D6Dc236a5f8002A5f0b4c8...   \n",
       "22303  {'buyer': '0xF2F400C138F9fb900576263af0BC7fCde...   \n",
       "\n",
       "                                        transaction_hash  block_number  \\\n",
       "0      0xa4bdec62ae15188f0b45e20ce54ab6d7ec0f7d64ea35...      14748577   \n",
       "1      0xd07301249cc8f1a4f14b8d611038a0013e9057ffd870...      14748583   \n",
       "2      0xf9c44b7763e0ba518a4c45c6457997b5a1454d82a183...      14748586   \n",
       "3      0xfd9019622d3b289ff007157d6dd368b25eab52c83d09...      14748602   \n",
       "4      0x516bc8a4f97b7f10e8f70357688906a8bf50becad56b...      14748605   \n",
       "...                                                  ...           ...   \n",
       "22299  0xd8677db6827a6d65e8cd5cf2473f4ba3b523d7677eb8...      15396500   \n",
       "22300  0xd8677db6827a6d65e8cd5cf2473f4ba3b523d7677eb8...      15396500   \n",
       "22301  0xd8677db6827a6d65e8cd5cf2473f4ba3b523d7677eb8...      15396500   \n",
       "22302  0xaaedf819b7c48880a3ef70315bf3ba13c605d300f98b...      15396518   \n",
       "22303  0x286b7000faa4d1a26aabe6a6a5099d0baf0ebcca475c...      15396533   \n",
       "\n",
       "                                              block_hash  log_index  \\\n",
       "0      0x8df278c069d41e1a8b0bab4dc2d8119ac88b043bedf6...         51   \n",
       "1      0x0e4978d24723c4eaf6c688af4b08cd5e3532768a5ea2...         69   \n",
       "2      0xa329eb47bb3bcbd2e4a5fd07a10d19ba73866da54133...         60   \n",
       "3      0x4fae047116cb9897d37b6c0abd9e40cad7d46c1774e3...        119   \n",
       "4      0xc4893f256e429240eb3e74703c8ccaac29c57657ec10...        214   \n",
       "...                                                  ...        ...   \n",
       "22299  0x5444c814827f870368fd4f648c13af8b4df179538911...         68   \n",
       "22300  0x5444c814827f870368fd4f648c13af8b4df179538911...         83   \n",
       "22301  0x5444c814827f870368fd4f648c13af8b4df179538911...         87   \n",
       "22302  0x8e0c5ba5e1ec75f816ad33bd3ec2f84a910383eaf02c...         14   \n",
       "22303  0xe35ad8949c755289e1fcf346277dd0b650246848de00...        109   \n",
       "\n",
       "       transaction_index  price (STETH/ETH)  \n",
       "0                      7           0.993263  \n",
       "1                     98           0.993262  \n",
       "2                     29           0.993263  \n",
       "3                    253           0.993261  \n",
       "4                    162           0.993261  \n",
       "...                  ...                ...  \n",
       "22299                 99           0.974094  \n",
       "22300                 99           0.974094  \n",
       "22301                 99           0.974094  \n",
       "22302                  1           0.973960  \n",
       "22303                 54           0.973818  \n",
       "\n",
       "[22304 rows x 9 columns]"
      ]
     },
     "execution_count": 26,
     "metadata": {},
     "output_type": "execute_result"
    }
   ],
   "source": [
    "# create new column with marginal price (stETH as base and ETH as quote, so should be at a discount)\n",
    "query_swaps['price (STETH/ETH)'] = query_swaps['event_arguments'].apply(get_price)\n",
    "query_swaps"
   ]
  },
  {
   "cell_type": "code",
   "execution_count": 27,
   "id": "c7301a74",
   "metadata": {},
   "outputs": [
    {
     "data": {
      "text/plain": [
       "<AxesSubplot:xlabel='block_number'>"
      ]
     },
     "execution_count": 27,
     "metadata": {},
     "output_type": "execute_result"
    },
    {
     "data": {
      "image/png": "[encoded data removed]",
      "text/plain": [
       "<Figure size 640x480 with 1 Axes>"
      ]
     },
     "metadata": {},
     "output_type": "display_data"
    }
   ],
   "source": [
    "query_swaps.plot(x='block_number', y='price (STETH/ETH)')"
   ]
  },
  {
   "cell_type": "code",
   "execution_count": 41,
   "id": "d4ae9127",
   "metadata": {},
   "outputs": [
    {
     "data": {
      "text/plain": [
       "<AxesSubplot:xlabel='block_number'>"
      ]
     },
     "execution_count": 41,
     "metadata": {},
     "output_type": "execute_result"
    },
    {
     "data": {
      "image/png": "[encoded data removed]",
      "text/plain": [
       "<Figure size 640x480 with 1 Axes>"
      ]
     },
     "metadata": {},
     "output_type": "display_data"
    }
   ],
   "source": [
    "# well those are weird dips and spikes. look at smooth parts\n",
    "query_swaps[(query_swaps['block_number'] > 15100000) & (query_swaps['block_number'] < 15200000)].plot(x='block_number', y='price (STETH/ETH)')"
   ]
  },
  {
   "cell_type": "code",
   "execution_count": 45,
   "id": "0cdc144e",
   "metadata": {},
   "outputs": [
    {
     "data": {
      "text/plain": [
       "<AxesSubplot:xlabel='block_number'>"
      ]
     },
     "execution_count": 45,
     "metadata": {},
     "output_type": "execute_result"
    },
    {
     "data": {
      "image/png": "[encoded data removed]",
      "text/plain": [
       "<Figure size 640x480 with 1 Axes>"
      ]
     },
     "metadata": {},
     "output_type": "display_data"
    }
   ],
   "source": [
    "# weird spike for swaps back to 1.000 exchange rate. should look at this in event df\n",
    "query_swaps[(query_swaps['block_number'] > 15131500) & (query_swaps['block_number'] < 15133000)].plot(x='block_number', y='price (STETH/ETH)')"
   ]
  },
  {
   "cell_type": "code",
   "execution_count": 29,
   "id": "fefbc986",
   "metadata": {},
   "outputs": [],
   "source": [
    "# TODO: add some smoothing in for price"
   ]
  }
 ],
 "metadata": {
  "kernelspec": {
   "display_name": "Python 3 (ipykernel)",
   "language": "python",
   "name": "python3"
  },
  "language_info": {
   "codemirror_mode": {
    "name": "ipython",
    "version": 3
   },
   "file_extension": ".py",
   "mimetype": "text/x-python",
   "name": "python",
   "nbconvert_exporter": "python",
   "pygments_lexer": "ipython3",
   "version": "3.10.6"
  }
 },
 "nbformat": 4,
 "nbformat_minor": 5
}
